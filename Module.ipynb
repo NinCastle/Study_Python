{
 "cells": [
  {
   "cell_type": "markdown",
   "metadata": {},
   "source": [
    "# Module\n",
    "[Jump to Python Link](https://wikidocs.net/29)\n",
    "아래 내용은 상위 링크의 내용을 정리"
   ]
  },
  {
   "cell_type": "markdown",
   "metadata": {},
   "source": [
    "모듈이란 함수나 변수 또는 클래스들을 모아 놓은 파일.<br>\n",
    "모듈은 다른 파이썬 프로그램에서 불러와 사용할 수 있게 만들어진 파이썬 파일 이다.<br>\n",
    "모듈은 여러 곳에서 많이 사용된다.<br>\n",
    "다른 사람이 이미 만들어 놓은 모듈을 사용할 수도 있고 직접 만들어 사용할 수도 있다.<br>"
   ]
  },
  {
   "cell_type": "markdown",
   "metadata": {},
   "source": [
    "## Make Module and Load Module"
   ]
  },
  {
   "cell_type": "markdown",
   "metadata": {},
   "source": [
    "모듈에 대해서 자세히 살펴보기 전에 간단한 모듈 예제를 만든다."
   ]
  },
  {
   "cell_type": "markdown",
   "metadata": {},
   "source": [
    "```python\n",
    "# mod1. py\n",
    "def sum(a, b):\n",
    "    return a + b\n",
    "```"
   ]
  },
  {
   "cell_type": "markdown",
   "metadata": {},
   "source": [
    "위와 같이 sum 함수 만 있는 파일 mod1.py를 만들고 C:\\doit 디렉토리에 저장.<br>\n",
    "**이 파일이 바로 모듈이다.**<br>\n",
    "\n",
    "우리가 만든 mod1.py라는 파일, 즉 모듈을 파이썬에서 불러와 사용하려면 어떻게 해야 할까?<br>\n",
    "먼저 아래와 같이 도스창을 열고 mod1.py를 저장한 디렉토리(C:\\doit)로 이동한 다음 대화형 인터프리터를 실행<br>\n",
    "```\n",
    "C:\\Users\\pahkey>cd C:\\doit\n",
    "C:\\doit>dir\n",
    "...\n",
    "2014-09-23 오후 01:53 49 mod1.py\n",
    "...\n",
    "C:\\doit>python\n",
    "Python 3.5.1 (v3.5.1:37a07cee5969, Dec 6 2015, 01:54:25) [MSC v.1900 64 bit (AM...\n",
    "Type \"help\", \"copyright\", \"credits\" or \"license\" for more information.\n",
    ">>>\n",
    "```"
   ]
  },
  {
   "cell_type": "markdown",
   "metadata": {},
   "source": [
    "반드시 mod1.py를 저장한 위치로 이동한 다음 이후 예제를 진행.<br>\n",
    "그래야만 대화형 이터프리터에서 mod1.py를 인식한다.<br>\n",
    "아래와 같이 실행\n",
    "```\n",
    ">>>import mod1\n",
    ">>>print(mod1.sum(3,4))\n",
    "7\n",
    "```"
   ]
  },
  {
   "cell_type": "markdown",
   "metadata": {},
   "source": [
    "mod1.py를 불러오기 위해 import mod1이라고 입력<br>\n",
    "import mode1.py로 입력하는 실수를 하지 않도록 주의<br>\n",
    "import는 이미 만들어진 파이썬 모듈을 사용할 수 있게 해주는 명령어이다.<br>\n",
    "mod1.py 파일에 있는 sum 함수를 이용하기 위해서는<br> \n",
    "위의 예에서와 같이 mod1.sum처럼 모듈 이름 뒤에 \".\"(도트 연산자)를 붙이고 함수 이름을 써서 사용가능.<br>\n",
    "<br>\n",
    "(<span style=\"color:red\">import</span>는 현재 디렉토리에 있는 파일이나 파이썬 라이브러라가 저장된 디렉토리에 있는 모듈만 불러오기 가능.)"
   ]
  },
  {
   "cell_type": "markdown",
   "metadata": {},
   "source": [
    "<br>\n",
    "import의 사용 방법은 다음과 같다.\n",
    "```\n",
    "import 모듈이름\n",
    "```\n",
    "<br>\n",
    "여기서 모듈이름은 mod1.py에서 확장자를 제거한 mod1만을 사용.<br>\n",
    "<br>\n",
    "이번에는 mod1.py 파일에 다음 함수를 추가<br>\n",
    "```python\n",
    "def safe_sum(a, b): \n",
    "    if type(a) != type(b): \n",
    "        print(\"더할수 있는 것이 아닙니다.\")\n",
    "        return \n",
    "    else: \n",
    "        result = sum(a, b) \n",
    "    return result\n",
    "```\n"
   ]
  },
  {
   "cell_type": "markdown",
   "metadata": {},
   "source": [
    "safe_sum 함수는 서로 다른 타입의 객체끼리 더하는 것을 미리 막아 준다.<br> \n",
    "만약 서로 다른 형태의 객체가 입력으로 들어오면 오류문을 출력한다.<br>\n",
    "그리고 trurn문만 단독으로 사용되어 None값을 돌려주고 함수를 종료한다.<br>\n",
    "<br>\n",
    "이 함수를 mod1.py에 추가한 다음 다시 대화형 인터프리터를 열고 다음과 같이 따라 해본다.<br>\n",
    "\n",
    "```\n",
    ">>> import mod1\n",
    ">>> print(mod1.safe_sum(3, 4))\n",
    "7\n",
    "```\n",
    "<br>\n",
    "import mod1으로 mod1.py 파일을 불러온 다음 mod1.safe_sum(3, 4)로 safe_sum 함수를 호출한다.<br>\n",
    "이렇게 하면 같은 타입의 객체가 입력으로 들어와서 3+4의 결과인 7이 출력된다.<br>\n",
    "<br>\n",
    "이번에는 다음 처럼 따라 해보자.\n",
    "```\n",
    ">>> print(mod1.safe_sum(1, 'a'))\n",
    "더할 수 있는 값이 아닙니다.\n",
    "None\n",
    ">>>\n",
    "```\n",
    "<br>\n",
    "위 예제에서 1은 정수형 객체, a는 문자열 객체이다.<br> \n",
    "이렇게 서로 타입이 다른 객체가 입력으로 들어오면 에러 메시지를 출력하고 return으로 None값을 주게 된다.<br>\n",
    "<br>\n",
    "mod1의 sum 함수 역시 다음처럼 바로 호출 할 수도 있다.\n",
    "```\n",
    ">>> print(mod1.sum(10, 20))\n",
    "30\n",
    "```"
   ]
  },
  {
   "cell_type": "markdown",
   "metadata": {},
   "source": [
    "### [모듈 함수를 사용하는 또 다른 방법]\n",
    "<br>\n",
    "때로는 mod1.sum, mod1.safe_sum처럼 쓰지 않고 그냥 sum, safe_sum처럼 함수를 쓰고 싶은 경우도 있을것.<br>\n",
    "이럴 때는 \"from 모듈이름 import 모듈함수\"를 사용하면된다.<br>\n",
    "<br>\n",
    "```\n",
    "from 모듈이름 import 모듈함수\n",
    "```\n",
    "<br>\n",
    "from ~ import ~를 이용하면 위와 같이 모듈이름을 붙이지 않고 바로 해당 모듈의 함수를 사용할 수 있다.<br>\n",
    "```\n",
    ">>> from mod1 import sum\n",
    ">>> sum(3, 4)\n",
    "7\n",
    "```\n",
    "<br>\n",
    "그런데 위와 같이 하면 mod1.py 파일의 sum 함수 만 사용할 수 있다.<br>\n",
    "sum 함수와 safe_sum함수를 둘다 사용하고 싶다면 어떻게 해야 할까?<br>\n",
    "<br>\n",
    "2가지 방법이 있다.\n",
    "```\n",
    "from mod1 import sum, safe_sum\n",
    "```\n",
    "첫 번째 방법은 위와 같이 **from 모듈이름 import 모듈함수1, 모듈함수2** 처럼 사용하는 방법.<br>\n",
    "콤마로 구분하여 필요한 함수를 불러올 수 있다.\n",
    "<br>\n",
    "```\n",
    "from mod1 import *\n",
    "```\n",
    "두 번째 방법은 위와 같이 `*`문자를 사용하는 방법이다.<br>\n",
    "07장에서 배울 정규 표현식에서 '*'문자는 \"모든것\"이라는 뜻인데 파이썬에서도 마찬가지 의미로 사용된다.<br>\n",
    "따라서 `from mod1 import *`는 모든 함수를 불러서 사용하겠다는 말.<br>\n",
    "<br>\n",
    "mod1.py파일에는 함수가 2개 밖에 없기 떄문에 위의 2가지 방법은 동일하게 적용된다."
   ]
  },
  {
   "cell_type": "markdown",
   "metadata": {},
   "source": [
    "## if __name__ == \"__main__\": 의 의미"
   ]
  },
  {
   "cell_type": "markdown",
   "metadata": {},
   "source": [
    "이번에는 mod1.py 파일에 다음과 같이 추가해 보자."
   ]
  },
  {
   "cell_type": "code",
   "execution_count": null,
   "metadata": {},
   "outputs": [],
   "source": [
    "# mod1.py\n",
    "def sum(a,b):\n",
    "    return a + b\n",
    "\n",
    "def safe_sum(a, b):\n",
    "    if type(a) != type(b):\n",
    "        print(\"더할수 있는 것이 아닙니다.\")\n",
    "        return\n",
    "    else:\n",
    "        result = a + b\n",
    "        return result"
   ]
  },
  {
   "cell_type": "markdown",
   "metadata": {},
   "source": [
    "위와 같은 mod1.py 파일을 에디터로 작성해서 C:\\doit 이라는 디렉토리에 저장했다면 다음처럼 실행할 수 있다."
   ]
  },
  {
   "cell_type": "markdown",
   "metadata": {},
   "source": [
    "```\n",
    "C:\\doit>python mod1.py\n",
    "더할 수 있는 것이 아닙니다.\n",
    "None\n",
    "5\n",
    "20.4\n",
    "```"
   ]
  },
  {
   "cell_type": "code",
   "execution_count": 1,
   "metadata": {},
   "outputs": [
    {
     "name": "stdout",
     "output_type": "stream",
     "text": [
      "더할수 있는 것이 아닙니다.\n",
      "None\n",
      "5\n",
      "20.4\n"
     ]
    }
   ],
   "source": [
    "print(safe_sum('a', 1))\n",
    "print(safe_sum(1, 4))\n",
    "print(sum(10, 10.4))       "
   ]
  },
  {
   "cell_type": "markdown",
   "metadata": {},
   "source": [
    "결과값은 위의 예처럼 출력된다.<br> \n",
    "그런데 이 mod1.py 파일의 sum과 safe_sum 함수를 사용하기 위해 mod1.py파일을 import하면 문제가 생긴다."
   ]
  },
  {
   "cell_type": "markdown",
   "metadata": {},
   "source": [
    "```\n",
    "C:\\WINDOWS> cd C:\\doit\n",
    "C:\\doit>python\n",
    ">>> import mod1\n",
    "더할 수 있는 것이 아닙니다.\n",
    "None\n",
    "5\n",
    "20.4\n",
    "```"
   ]
  },
  {
   "cell_type": "markdown",
   "metadata": {},
   "source": [
    "엉뚱하게도 import mod1을 수행하는 순간 mod1.py가 실행이 되어 결과값을 출력한다.<br>\n",
    "단지 mod1.py 파일의 sum과 safe_sum함수만 사용하려고 했는데 말이다.<br> \n",
    "이러한 문제를 방지하려면 다음처럼 하면 된다.<br>"
   ]
  },
  {
   "cell_type": "markdown",
   "metadata": {},
   "source": [
    "```python\n",
    "if __name__ == \"__main__\":\n",
    "    print(safe_sum('a', 1))\n",
    "    print(safe_sum(1, 4))\n",
    "    print(sum(10, 10.4))\n",
    "```"
   ]
  },
  {
   "cell_type": "markdown",
   "metadata": {},
   "source": [
    "```\n",
    "if __name__ == \"__main__\"을 사용하면 C:\\doit> python mod1.py처럼 직접 이파일을 실행시켰을 때는 __name__ == \"__main__\"이 참이 되어 if문 다음 문장들이 수행된다.\n",
    "```"
   ]
  },
  {
   "cell_type": "markdown",
   "metadata": {},
   "source": [
    "```\n",
    "반대로 대화형 인터플리터나 다른 파일에서 이 모듈을 불러서 사용할 때는 __name__==\"__main__\"이 거짓이 되어 if문 다음 문장들이 수행되지 않는다.\n",
    "```"
   ]
  },
  {
   "cell_type": "markdown",
   "metadata": {},
   "source": [
    "파이썬 모듈을 만든 다음 그 모듈을 테스트 하기 위해 보통 위와 같은 방법을 사용하는데, 실제로 그런지 대화형 인터프리터를 열고 실행해보자.\n",
    "```\n",
    ">>> import mod1\n",
    ">>>\n",
    "```"
   ]
  },
  {
   "cell_type": "markdown",
   "metadata": {},
   "source": [
    "mod1.py파일의 마지막 부분을 위와 같이 고친 다음에는 아무런 결과값도 출력되지 않는 것을 볼 수 있다."
   ]
  },
  {
   "cell_type": "markdown",
   "metadata": {},
   "source": [
    "### 알아두기\n",
    "```\n",
    "파이썬의 __name__ 변수는 파이썬이 내부적으로 사용하는 특별한 변수명이다. \n",
    "만약 C;\\doit>python mod1.py 처럼 직접 mod1.py 파일을 실행시킬 경우 mod1.py의 __name__ 변수에는 __main__ 이라는 값이 저장된다.\n",
    "하지만 파이썬 쉴이나 다른 파이썬 모듈에서 mod1을 import 할 경우에는 mod1.py의 __name__ 변수에는 :\n",
    "```"
   ]
  },
  {
   "cell_type": "code",
   "execution_count": null,
   "metadata": {},
   "outputs": [],
   "source": []
  }
 ],
 "metadata": {
  "kernelspec": {
   "display_name": "Python 2",
   "language": "python",
   "name": "python2"
  },
  "language_info": {
   "codemirror_mode": {
    "name": "ipython",
    "version": 2
   },
   "file_extension": ".py",
   "mimetype": "text/x-python",
   "name": "python",
   "nbconvert_exporter": "python",
   "pygments_lexer": "ipython2",
   "version": "2.7.14"
  }
 },
 "nbformat": 4,
 "nbformat_minor": 2
}

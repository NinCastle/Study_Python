{
 "cells": [
  {
   "cell_type": "markdown",
   "metadata": {},
   "source": [
    "# Module\n",
    "[Jump to Python Link](https://wikidocs.net/29)"
   ]
  },
  {
   "cell_type": "markdown",
   "metadata": {},
   "source": [
    "모듈이란 함수나 변수 또는 클래스들을 모아 놓은 파일.<br>\n",
    "모듈은 다른 파이썬 프로그램에서 불러와 사용할 수 있게 만들어진 파이썬 파일 이다.<br>\n",
    "모듈은 여러 곳에서 많이 사용된다.<br>\n",
    "다른 사람이 이미 만들어 놓은 모듈을 사용할 수도 있고 직접 만들어 사용할 수도 있다.<br>"
   ]
  },
  {
   "cell_type": "markdown",
   "metadata": {},
   "source": [
    "## Make Module and Load Module"
   ]
  },
  {
   "cell_type": "markdown",
   "metadata": {},
   "source": [
    "모듈에 대해서 자세히 살펴보기 전에 간단한 모듈 예제를 만든다."
   ]
  },
  {
   "cell_type": "code",
   "execution_count": 1,
   "metadata": {},
   "outputs": [],
   "source": [
    "# mod1. py\n",
    "def sum_mod1(a, b):\n",
    "    return a + b"
   ]
  },
  {
   "cell_type": "markdown",
   "metadata": {},
   "source": [
    "위와 같이 sum 함수 만 있는 파일 mod1.py를 만들고 C:\\doit 디렉토리에 저장.<br>\n",
    "**이 파일이 바로 모듈이다.**<br>\n",
    "\n",
    "우리가 만든 mod1.py라는 파일, 즉 모듈을 파이썬에서 불러와 사용하려면 어떻게 해야 할까?<br>\n",
    "먼저 아래와 같이 도스창을 열고 mod1.py를 저장한 디렉토리(C:\\doit)로 이동한 다음 대화형 인터프리터를 실행<br>\n",
    "```\n",
    "C:\\Users\\pahkey>cd C:\\doit\n",
    "C:\\doit>dir\n",
    "...\n",
    "2014-09-23 오후 01:53 49 mod1.py\n",
    "...\n",
    "C:\\doit>python\n",
    "Python 3.5.1 (v3.5.1:37a07cee5969, Dec 6 2015, 01:54:25) [MSC v.1900 64 bit (AM...\n",
    "Type \"help\", \"copyright\", \"credits\" or \"license\" for more information.\n",
    ">>>\n",
    "```"
   ]
  },
  {
   "cell_type": "markdown",
   "metadata": {},
   "source": [
    "반드시 mod1.py를 저장한 위치로 이동한 다음 이후 예제를 진행.<br>\n",
    "그래야만 대화형 이터프리터에서 mod1.py를 인식한다.<br>\n",
    "아래와 같이 실행\n",
    "```\n",
    ">>>import mod1\n",
    ">>>print(mod1.sum(3,4))\n",
    "7\n",
    "```"
   ]
  },
  {
   "cell_type": "markdown",
   "metadata": {},
   "source": [
    "mod1.py를 불러오기 위해 import mod1이라고 입력<br>\n",
    "import mode1.py"
   ]
  },
  {
   "cell_type": "code",
   "execution_count": null,
   "metadata": {},
   "outputs": [],
   "source": []
  }
 ],
 "metadata": {
  "kernelspec": {
   "display_name": "Python 3",
   "language": "python",
   "name": "python3"
  },
  "language_info": {
   "codemirror_mode": {
    "name": "ipython",
    "version": 3
   },
   "file_extension": ".py",
   "mimetype": "text/x-python",
   "name": "python",
   "nbconvert_exporter": "python",
   "pygments_lexer": "ipython3",
   "version": "3.6.4"
  }
 },
 "nbformat": 4,
 "nbformat_minor": 2
}

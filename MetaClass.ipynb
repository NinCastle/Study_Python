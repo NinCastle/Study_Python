{
 "cells": [
  {
   "cell_type": "markdown",
   "metadata": {},
   "source": [
    "# MetaClass\n",
    "\n",
    "[MetaClass이해](https://tech.ssut.me/2017/03/24/understanding-python-metaclasses/)\n",
    "\n",
    "## 클래스를 객체로"
   ]
  },
  {
   "cell_type": "markdown",
   "metadata": {},
   "source": [
    "메타클래스를 이해하기 전에 Python의 클래스에 대한 완전한 이해가 필요.<br>\n",
    "또한 Python은 Smalltalk 언어에서 따온 매우 특별한 클래스 구성이 존재.<br>\n",
    "대부분의 언어에서 클래스는 어떻게 객체를 생성할지에 대해 정의하는 코드조각일 뿐이다.<br>"
   ]
  },
  {
   "cell_type": "markdown",
   "metadata": {},
   "source": []
  },
  {
   "cell_type": "markdown",
   "metadata": {},
   "source": [
    "대부분의 언어에서 클래스는 어떻게 객체를 생성할지에 대해 정의하는 코드조각일 뿐이다.<br>"
   ]
  },
  {
   "cell_type": "code",
   "execution_count": 3,
   "metadata": {},
   "outputs": [
    {
     "name": "stdout",
     "output_type": "stream",
     "text": [
      "<__main__.ObjectCreator object at 0x000001458E5E81D0>\n"
     ]
    }
   ],
   "source": [
    "class ObjectCreator(object):\n",
    "    pass\n",
    "\n",
    "my_object = ObjectCreator()\n",
    "print(my_object)"
   ]
  },
  {
   "cell_type": "markdown",
   "metadata": {},
   "source": [
    "하지만 python에서의 클래스는 그 이상의 존재이다. 클래스는 객체이기도 하다."
   ]
  },
  {
   "cell_type": "markdown",
   "metadata": {},
   "source": [
    "Class 키워드를 사용할대 Python은 실행하면서 객체를 만들어 낸다.<br>\n",
    "다음 코드는 메모리에 ObjectCreator이라는 이름을 가진 객체를 만들어 낸다.<br>"
   ]
  },
  {
   "cell_type": "code",
   "execution_count": 4,
   "metadata": {
    "collapsed": true
   },
   "outputs": [],
   "source": [
    "class ObjectCreator(object):\n",
    "    pass"
   ]
  },
  {
   "cell_type": "markdown",
   "metadata": {},
   "source": [
    "이 객체(클래스)는 그 자체로 새로운 객체(인스턴스)를 만들 수 있으며, 이것이 왜 이 객체가 클래스인지 나타낸다.<br>\n",
    "<br>\n",
    "* 변수에 할당할 수 도 있고\n",
    "* 복사할 수도 있고\n",
    "* 새로운 속성을 추가 할수도 있고\n",
    "* 함수의 인자로 넘길 수도 있다."
   ]
  },
  {
   "cell_type": "markdown",
   "metadata": {},
   "source": [
    "예)"
   ]
  },
  {
   "cell_type": "code",
   "execution_count": 12,
   "metadata": {},
   "outputs": [
    {
     "name": "stdout",
     "output_type": "stream",
     "text": [
      "<class '__main__.ObjectCreator'>\n",
      "<class '__main__.ObjectCreator'>\n",
      "foo\n"
     ]
    }
   ],
   "source": [
    "print(ObjectCreator) # 클래스를 출력할 수 있다. 클래스가 객체이기 떄문\n",
    "\n",
    "def echo(o):\n",
    "    print(o)\n",
    "    \n",
    "echo(ObjectCreator) # 클래스를 함수의 인자로 넘길 수 있다.\n",
    "\n",
    "# print(hasatter(ObjectCreator, \"new_attribute\"))\n",
    "\n",
    "ObjectCreator.new_attribute = 'foo' # 클래스에 새로운 속성을 추가 할 수 있다.\n",
    "\n",
    "# print(hasatter(ObjectCreator, \"new_attribute\"))\n",
    "\n",
    "print(ObjectCreator.new_attribute)\n",
    "\n",
    "ObjectCreatorMirror = ObjectCreator"
   ]
  },
  {
   "cell_type": "code",
   "execution_count": null,
   "metadata": {
    "collapsed": true
   },
   "outputs": [],
   "source": []
  }
 ],
 "metadata": {
  "kernelspec": {
   "display_name": "Python 3",
   "language": "python",
   "name": "python3"
  },
  "language_info": {
   "codemirror_mode": {
    "name": "ipython",
    "version": 3
   },
   "file_extension": ".py",
   "mimetype": "text/x-python",
   "name": "python",
   "nbconvert_exporter": "python",
   "pygments_lexer": "ipython3",
   "version": "3.6.1"
  }
 },
 "nbformat": 4,
 "nbformat_minor": 2
}

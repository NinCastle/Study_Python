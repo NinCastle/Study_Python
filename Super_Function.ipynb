{
 "cells": [
  {
   "cell_type": "markdown",
   "metadata": {},
   "source": [
    "[ㅍㅍㅋㄷ](http://bluese05.tistory.com/5)  \n",
    "[늅이](http://rednooby.tistory.com/56)  \n",
    "하기 내용은 상기 링크들를 정리한것."
   ]
  },
  {
   "cell_type": "markdown",
   "metadata": {},
   "source": [
    "# Super"
   ]
  },
  {
   "cell_type": "markdown",
   "metadata": {},
   "source": [
    "super를 사용하기 전에, [상속](http://rednooby.tistory.com/54),[오버라이딩](http://rednooby.tistory.com/55)의 개념이 있어야 쉽게 이해한다. "
   ]
  },
  {
   "cell_type": "markdown",
   "metadata": {},
   "source": [
    "python 에서 다중 상속시 발생하는 문제 대해 아래의 그림을 보며 살펴본다.\n",
    "![](https://t1.daumcdn.net/cfile/tistory/21024040558BAA791A)"
   ]
  },
  {
   "cell_type": "markdown",
   "metadata": {},
   "source": [
    "D클래스는 B, C 클래스를 상속 받았고, B, C는 A클래스를 상속 받은 그림이다.  \n",
    "이때 D 클래스를 호출 하게 되면 아래와 같은 일이 발생한다.  \n",
    "> D는 B를 상속 받았으니 B의 생성자가 한번 실행되고,  \n",
    "B는 A를 상속 받았으니 A의 생성자가 한번 실행된다.  \n",
    "  \n",
    "이때\n",
    "> D는 C도 상속 받았으니, C의 생성자가 한번 실행되고,  \n",
    "C는 A를 상속 받았으니 A의 생성자가 위의 실행에 이어 한번 더 실행된다.  \n",
    "  \n",
    "A 생성자는 위 두가지 사건 때문에 두번 호출이 되어버린다.  "
   ]
  },
  {
   "cell_type": "code",
   "execution_count": 2,
   "metadata": {},
   "outputs": [
    {
     "name": "stdout",
     "output_type": "stream",
     "text": [
      "Class D __init__()\n",
      "Class B __init__()\n",
      "Class A __init__()\n",
      "Class C __init__()\n",
      "Class A __init__()\n"
     ]
    }
   ],
   "source": [
    "class A:\n",
    "    def __init__(self):\n",
    "        print(\"Class A __init__()\")\n",
    "\n",
    "class B(A):\n",
    "    def __init__(self):\n",
    "        print(\"Class B __init__()\")\n",
    "        A.__init__(self)\n",
    "\n",
    "class C(A):\n",
    "    def __init__(self):\n",
    "        print(\"Class C __init__()\")\n",
    "        A.__init__(self)\n",
    "\n",
    "class D(B, C):\n",
    "    def __init__(self):\n",
    "        print(\"Class D __init__()\")\n",
    "        B.__init__(self)\n",
    "        C.__init__(self)\n",
    "        \n",
    "d = D()"
   ]
  },
  {
   "cell_type": "markdown",
   "metadata": {},
   "source": [
    "위 결과 처럼 Class A가 두번이나 호출 되어 버린 것을 어떻게 해결할까?  \n",
    "이것을 Super라는 함수를 통하여 해결한다."
   ]
  },
  {
   "cell_type": "code",
   "execution_count": 3,
   "metadata": {},
   "outputs": [
    {
     "name": "stdout",
     "output_type": "stream",
     "text": [
      "Class D __init__()\n",
      "Class B __init__()\n",
      "Class C __init__()\n",
      "Class A __init__()\n"
     ]
    }
   ],
   "source": [
    "class A:\n",
    "    def __init__(self):\n",
    "        print(\"Class A __init__()\")\n",
    "        super(A, self).__init__()\n",
    "\n",
    "class B(A):\n",
    "    def __init__(self):\n",
    "        print(\"Class B __init__()\")\n",
    "        super(B, self).__init__()\n",
    "        \n",
    "class C(A):\n",
    "    def __init__(self):\n",
    "        print(\"Class C __init__()\")\n",
    "        super(C, self).__init__()\n",
    "\n",
    "class D(B, C):\n",
    "    def __init__(self):\n",
    "        print(\"Class D __init__()\")\n",
    "        super(D, self).__init__()\n",
    "\n",
    "d = D()"
   ]
  },
  {
   "cell_type": "markdown",
   "metadata": {},
   "source": [
    "즉, 클래스를 사용하는 입장에서 전체 클래스의 상속 구조를 이해하지 못했더라도, 문제없이 상속이 가능하다.  \n",
    "<br>\n",
    "super() 함수는 슈퍼클래스의 method를 호출하라는 의미인데, \n",
    "이때 다수의 슈퍼 클래스가 존재시 클래스 호출 순서의 결정은 `__mro__`를 통해 결정된다.   \n",
    "<br>\n",
    "mro (Method Resolution Order)가 무엇인지는 아래 링크 참고\n",
    "참고 : https://docs.python.org/2/library/stdtypes.html#class.__mro__\n",
    "\n",
    "출처: http://bluese05.tistory.com/5 [ㅍㅍㅋㄷ]"
   ]
  }
 ],
 "metadata": {
  "kernelspec": {
   "display_name": "Python 3",
   "language": "python",
   "name": "python3"
  },
  "language_info": {
   "codemirror_mode": {
    "name": "ipython",
    "version": 3
   },
   "file_extension": ".py",
   "mimetype": "text/x-python",
   "name": "python",
   "nbconvert_exporter": "python",
   "pygments_lexer": "ipython3",
   "version": "3.6.4"
  }
 },
 "nbformat": 4,
 "nbformat_minor": 2
}

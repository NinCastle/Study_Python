{
 "cells": [
  {
   "cell_type": "markdown",
   "metadata": {},
   "source": [
    "[리스트 안에 for문 포함하기](https://wikidocs.net/22#for-continue)<br>\n",
    "[Python Comprehension](http://pythonstudy.xyz/python/article/22-Python-Comprehension)<br>\n",
    "아래 내용은 상기 링크를 정리한것."
   ]
  },
  {
   "cell_type": "markdown",
   "metadata": {},
   "source": [
    "## Content\n",
    "* [List Comprehension](#lc)\n",
    "* [Set Comprehension](#sc)\n",
    "* [Dictionaly Comprehension](#dc)"
   ]
  },
  {
   "cell_type": "markdown",
   "metadata": {},
   "source": [
    "# One line coding"
   ]
  },
  {
   "cell_type": "markdown",
   "metadata": {},
   "source": [
    "## List Comprehension<a name=\"lc\"></a>"
   ]
  },
  {
   "cell_type": "markdown",
   "metadata": {},
   "source": [
    "for 문을 포함하는 리스트 내포(List comprehension)이용하면 좀 더 편리하고 직관적인 프로그램을 만들수 있다."
   ]
  },
  {
   "cell_type": "code",
   "execution_count": 2,
   "metadata": {},
   "outputs": [
    {
     "name": "stdout",
     "output_type": "stream",
     "text": [
      "[3, 6, 9, 12]\n"
     ]
    }
   ],
   "source": [
    "a = [1, 2, 3, 4]\n",
    "result = []\n",
    "for num in a:\n",
    "    result.append(num*3)\n",
    "print(result)"
   ]
  },
  {
   "cell_type": "markdown",
   "metadata": {},
   "source": [
    "위 예제는 a라는 리스트의 각 항목에 3을 곱한 결과를 retrun."
   ]
  },
  {
   "cell_type": "markdown",
   "metadata": {},
   "source": [
    "아래는 List comprehension을 이용한 예제."
   ]
  },
  {
   "cell_type": "code",
   "execution_count": 3,
   "metadata": {},
   "outputs": [
    {
     "name": "stdout",
     "output_type": "stream",
     "text": [
      "[3, 6, 9, 12]\n"
     ]
    }
   ],
   "source": [
    "result = [num * 3 for num in a]\n",
    "print(result)"
   ]
  },
  {
   "cell_type": "markdown",
   "metadata": {},
   "source": [
    "만약 짝수에만 3을 곱하여 담고 싶다면? if문을 사용한다."
   ]
  },
  {
   "cell_type": "code",
   "execution_count": 4,
   "metadata": {},
   "outputs": [
    {
     "data": {
      "text/plain": [
       "[6, 12]"
      ]
     },
     "execution_count": 4,
     "metadata": {},
     "output_type": "execute_result"
    }
   ],
   "source": [
    "result = [num *3 for num in a if num % 2 == 0]\n",
    "result"
   ]
  },
  {
   "cell_type": "markdown",
   "metadata": {},
   "source": [
    "LIst comprehension의 일반적인 문법은 다음과 같다. \"if\"문은 생략가능<br>\n",
    "<br>\n",
    "[표현식(i+2) **for** 항목(i) **in** 반복가능객체(range(10)) **if** 조건(i==0)]"
   ]
  },
  {
   "cell_type": "code",
   "execution_count": 5,
   "metadata": {},
   "outputs": [
    {
     "data": {
      "text/plain": [
       "[2, 3, 4, 5, 6]"
      ]
     },
     "execution_count": 5,
     "metadata": {},
     "output_type": "execute_result"
    }
   ],
   "source": [
    "test = [i+2 for i in range(10) if i < 5]\n",
    "test"
   ]
  },
  {
   "cell_type": "markdown",
   "metadata": {},
   "source": [
    "for문 2개 이상"
   ]
  },
  {
   "cell_type": "code",
   "execution_count": 10,
   "metadata": {},
   "outputs": [
    {
     "data": {
      "text/plain": [
       "[6, 7, 8, 9, 10, 7, 8, 9, 10, 11, 8, 9, 10, 11, 12, 9, 10, 11, 12, 13]"
      ]
     },
     "execution_count": 10,
     "metadata": {},
     "output_type": "execute_result"
    }
   ],
   "source": [
    "test2 = [i+f for i in range(10) if i > 5\n",
    "        for f in range(10) if f < 5 ]\n",
    "test2"
   ]
  },
  {
   "cell_type": "markdown",
   "metadata": {},
   "source": [
    "만약 구구단의 모든 결과를 리스트에 담고 싶다면 아래와 같이 구현도 가능"
   ]
  },
  {
   "cell_type": "code",
   "execution_count": 24,
   "metadata": {},
   "outputs": [
    {
     "data": {
      "text/plain": [
       "[2,\n",
       " 4,\n",
       " 6,\n",
       " 8,\n",
       " 10,\n",
       " 12,\n",
       " 14,\n",
       " 16,\n",
       " 18,\n",
       " 3,\n",
       " 6,\n",
       " 9,\n",
       " 12,\n",
       " 15,\n",
       " 18,\n",
       " 21,\n",
       " 24,\n",
       " 27,\n",
       " 4,\n",
       " 8,\n",
       " 12,\n",
       " 16,\n",
       " 20,\n",
       " 24,\n",
       " 28,\n",
       " 32,\n",
       " 36,\n",
       " 5,\n",
       " 10,\n",
       " 15,\n",
       " 20,\n",
       " 25,\n",
       " 30,\n",
       " 35,\n",
       " 40,\n",
       " 45,\n",
       " 6,\n",
       " 12,\n",
       " 18,\n",
       " 24,\n",
       " 30,\n",
       " 36,\n",
       " 42,\n",
       " 48,\n",
       " 54,\n",
       " 7,\n",
       " 14,\n",
       " 21,\n",
       " 28,\n",
       " 35,\n",
       " 42,\n",
       " 49,\n",
       " 56,\n",
       " 63,\n",
       " 8,\n",
       " 16,\n",
       " 24,\n",
       " 32,\n",
       " 40,\n",
       " 48,\n",
       " 56,\n",
       " 64,\n",
       " 72,\n",
       " 9,\n",
       " 18,\n",
       " 27,\n",
       " 36,\n",
       " 45,\n",
       " 54,\n",
       " 63,\n",
       " 72,\n",
       " 81]"
      ]
     },
     "execution_count": 24,
     "metadata": {},
     "output_type": "execute_result"
    }
   ],
   "source": [
    "result = [a * b for a in range(2, 10)\n",
    "         for b in range(1, 10)]\n",
    "result"
   ]
  },
  {
   "cell_type": "code",
   "execution_count": 22,
   "metadata": {},
   "outputs": [
    {
     "name": "stdout",
     "output_type": "stream",
     "text": [
      "2X1 =  2\n",
      "2X2 =  4\n",
      "2X3 =  6\n",
      "2X4 =  8\n",
      "2X5 =  10\n",
      "2X6 =  12\n",
      "2X7 =  14\n",
      "2X8 =  16\n",
      "2X9 =  18\n",
      "3X1 =  3\n",
      "3X2 =  6\n",
      "3X3 =  9\n",
      "3X4 =  12\n",
      "3X5 =  15\n",
      "3X6 =  18\n",
      "3X7 =  21\n",
      "3X8 =  24\n",
      "3X9 =  27\n",
      "4X1 =  4\n",
      "4X2 =  8\n",
      "4X3 =  12\n",
      "4X4 =  16\n",
      "4X5 =  20\n",
      "4X6 =  24\n",
      "4X7 =  28\n",
      "4X8 =  32\n",
      "4X9 =  36\n",
      "5X1 =  5\n",
      "5X2 =  10\n",
      "5X3 =  15\n",
      "5X4 =  20\n",
      "5X5 =  25\n",
      "5X6 =  30\n",
      "5X7 =  35\n",
      "5X8 =  40\n",
      "5X9 =  45\n",
      "6X1 =  6\n",
      "6X2 =  12\n",
      "6X3 =  18\n",
      "6X4 =  24\n",
      "6X5 =  30\n",
      "6X6 =  36\n",
      "6X7 =  42\n",
      "6X8 =  48\n",
      "6X9 =  54\n",
      "7X1 =  7\n",
      "7X2 =  14\n",
      "7X3 =  21\n",
      "7X4 =  28\n",
      "7X5 =  35\n",
      "7X6 =  42\n",
      "7X7 =  49\n",
      "7X8 =  56\n",
      "7X9 =  63\n",
      "8X1 =  8\n",
      "8X2 =  16\n",
      "8X3 =  24\n",
      "8X4 =  32\n",
      "8X5 =  40\n",
      "8X6 =  48\n",
      "8X7 =  56\n",
      "8X8 =  64\n",
      "8X9 =  72\n",
      "9X1 =  9\n",
      "9X2 =  18\n",
      "9X3 =  27\n",
      "9X4 =  36\n",
      "9X5 =  45\n",
      "9X6 =  54\n",
      "9X7 =  63\n",
      "9X8 =  72\n",
      "9X9 =  81\n"
     ]
    }
   ],
   "source": [
    "result = [print(\"{}X{} = \".format(a, b),a * b) for a in range(2, 10)\n",
    "         for b in range(1, 10)]"
   ]
  },
  {
   "cell_type": "markdown",
   "metadata": {},
   "source": [
    "## Set Comprehension<a name = \"sc\"> </a>"
   ]
  },
  {
   "cell_type": "markdown",
   "metadata": {},
   "source": [
    "Python 3에서 지원하는 형태 List Comprehension 과 매우 흡사하고 Set형태로 return 하는 점이 다르다."
   ]
  },
  {
   "cell_type": "markdown",
   "metadata": {},
   "source": [
    "{출력표현식 **for** 요소 **in** 입력Sequence [**if** 조건식] }"
   ]
  },
  {
   "cell_type": "code",
   "execution_count": 25,
   "metadata": {},
   "outputs": [
    {
     "data": {
      "text/plain": [
       "{1, 4, 9, 16, 25, 36}"
      ]
     },
     "execution_count": 25,
     "metadata": {},
     "output_type": "execute_result"
    }
   ],
   "source": [
    "oldlist = [1, 2, 3, 4, 5, 6]\n",
    "\n",
    "newlist = {i * i for i in oldlist}\n",
    "newlist"
   ]
  },
  {
   "cell_type": "markdown",
   "metadata": {},
   "source": [
    "## Dictionary Comprehension <a name = \"dc\"></a>"
   ]
  },
  {
   "cell_type": "markdown",
   "metadata": {},
   "source": [
    "Dictionary Comprehension또한 Python3에서 지원하는 Data type이며,<br> \n",
    "입력 Sequence로 부터 지정된 표현식에 따라 새로운 Dictionary 컬렉션을 빌드하는 것으로 return value가 Key:Value 형태로 표현된다.<br>\n",
    "<br>\n",
    "{key : value **for** 요소 **in** 입력Sequence [**if**조건식]}"
   ]
  },
  {
   "cell_type": "markdown",
   "metadata": {},
   "source": [
    "아래 예제는 key:value를 전환하는 예제이다."
   ]
  },
  {
   "cell_type": "code",
   "execution_count": 26,
   "metadata": {},
   "outputs": [
    {
     "data": {
      "text/plain": [
       "{'a': 1, 'b': 2, 'c': 3}"
      ]
     },
     "execution_count": 26,
     "metadata": {},
     "output_type": "execute_result"
    }
   ],
   "source": [
    "keyvalue = {1 : 'a', 2 : 'b', 3 : 'c'}\n",
    "\n",
    "valuekey = {val:key for key, val in keyvalue.items()}\n",
    "\n",
    "valuekey"
   ]
  },
  {
   "cell_type": "markdown",
   "metadata": {},
   "source": [
    "아래는 메소드 조건식을 사용한 예제"
   ]
  },
  {
   "cell_type": "code",
   "execution_count": 28,
   "metadata": {},
   "outputs": [
    {
     "data": {
      "text/plain": [
       "{1: 1, 3: 9, 5: 25, 7: 49, 9: 81}"
      ]
     },
     "execution_count": 28,
     "metadata": {},
     "output_type": "execute_result"
    }
   ],
   "source": [
    "def ifdef(x):\n",
    "    return x % 2 == 1\n",
    "test3 = {x:x*x for x in range(11) if ifdef(x)}\n",
    "test3"
   ]
  }
 ],
 "metadata": {
  "kernelspec": {
   "display_name": "Python [conda env:Anaconda3]",
   "language": "python",
   "name": "conda-env-Anaconda3-py"
  },
  "language_info": {
   "codemirror_mode": {
    "name": "ipython",
    "version": 3
   },
   "file_extension": ".py",
   "mimetype": "text/x-python",
   "name": "python",
   "nbconvert_exporter": "python",
   "pygments_lexer": "ipython3",
   "version": "3.6.1"
  }
 },
 "nbformat": 4,
 "nbformat_minor": 2
}

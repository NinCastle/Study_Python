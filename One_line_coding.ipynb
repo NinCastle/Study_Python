{
 "cells": [
  {
   "cell_type": "markdown",
   "metadata": {},
   "source": [
    "[리스트 안에 for문 포함하기](https://wikidocs.net/22#for-continue)<br>\n",
    "[Python Comprehension](http://pythonstudy.xyz/python/article/22-Python-Comprehension)<br>\n",
    "[Lambda](https://wayhome25.github.io/cs/2017/04/03/cs-03/)<br>\n",
    "[Lambda-2](http://yes90.tistory.com/52)<br>\n",
    "아래 내용은 상기 링크를 정리한것."
   ]
  },
  {
   "cell_type": "markdown",
   "metadata": {},
   "source": [
    "## Content\n",
    "* [List Comprehension](#lc)\n",
    "* [Set Comprehension](#sc)\n",
    "* [Dictionaly Comprehension](#dc)\n",
    "* [Lambda Function](#ld)"
   ]
  },
  {
   "cell_type": "markdown",
   "metadata": {},
   "source": [
    "# One line coding"
   ]
  },
  {
   "cell_type": "markdown",
   "metadata": {},
   "source": [
    "## List Comprehension<a name=\"lc\"></a>"
   ]
  },
  {
   "cell_type": "markdown",
   "metadata": {},
   "source": [
    "for 문을 포함하는 리스트 내포(List comprehension)이용하면 좀 더 편리하고 직관적인 프로그램을 만들수 있다."
   ]
  },
  {
   "cell_type": "code",
   "execution_count": 2,
   "metadata": {},
   "outputs": [
    {
     "name": "stdout",
     "output_type": "stream",
     "text": [
      "[3, 6, 9, 12]\n"
     ]
    }
   ],
   "source": [
    "a = [1, 2, 3, 4]\n",
    "result = []\n",
    "for num in a:\n",
    "    result.append(num*3)\n",
    "print(result)"
   ]
  },
  {
   "cell_type": "markdown",
   "metadata": {},
   "source": [
    "위 예제는 a라는 리스트의 각 항목에 3을 곱한 결과를 retrun."
   ]
  },
  {
   "cell_type": "markdown",
   "metadata": {},
   "source": [
    "아래는 List comprehension을 이용한 예제."
   ]
  },
  {
   "cell_type": "code",
   "execution_count": 3,
   "metadata": {},
   "outputs": [
    {
     "name": "stdout",
     "output_type": "stream",
     "text": [
      "[3, 6, 9, 12]\n"
     ]
    }
   ],
   "source": [
    "result = [num * 3 for num in a]\n",
    "print(result)"
   ]
  },
  {
   "cell_type": "markdown",
   "metadata": {},
   "source": [
    "만약 짝수에만 3을 곱하여 담고 싶다면? if문을 사용한다."
   ]
  },
  {
   "cell_type": "code",
   "execution_count": 4,
   "metadata": {},
   "outputs": [
    {
     "data": {
      "text/plain": [
       "[6, 12]"
      ]
     },
     "execution_count": 4,
     "metadata": {},
     "output_type": "execute_result"
    }
   ],
   "source": [
    "result = [num *3 for num in a if num % 2 == 0]\n",
    "result"
   ]
  },
  {
   "cell_type": "markdown",
   "metadata": {},
   "source": [
    "LIst comprehension의 일반적인 문법은 다음과 같다. \"if\"문은 생략가능<br>\n",
    "<br>\n",
    "[표현식(i+2) **for** 항목(i) **in** 반복가능객체(range(10)) **if** 조건(i==0)]"
   ]
  },
  {
   "cell_type": "code",
   "execution_count": 5,
   "metadata": {},
   "outputs": [
    {
     "data": {
      "text/plain": [
       "[2, 3, 4, 5, 6]"
      ]
     },
     "execution_count": 5,
     "metadata": {},
     "output_type": "execute_result"
    }
   ],
   "source": [
    "test = [i+2 for i in range(10) if i < 5]\n",
    "test"
   ]
  },
  {
   "cell_type": "markdown",
   "metadata": {},
   "source": [
    "for문 2개 이상"
   ]
  },
  {
   "cell_type": "code",
   "execution_count": 10,
   "metadata": {},
   "outputs": [
    {
     "data": {
      "text/plain": [
       "[6, 7, 8, 9, 10, 7, 8, 9, 10, 11, 8, 9, 10, 11, 12, 9, 10, 11, 12, 13]"
      ]
     },
     "execution_count": 10,
     "metadata": {},
     "output_type": "execute_result"
    }
   ],
   "source": [
    "test2 = [i+f for i in range(10) if i > 5\n",
    "        for f in range(10) if f < 5 ]\n",
    "test2"
   ]
  },
  {
   "cell_type": "markdown",
   "metadata": {},
   "source": [
    "만약 구구단의 모든 결과를 리스트에 담고 싶다면 아래와 같이 구현도 가능"
   ]
  },
  {
   "cell_type": "code",
   "execution_count": 24,
   "metadata": {},
   "outputs": [
    {
     "data": {
      "text/plain": [
       "[2,\n",
       " 4,\n",
       " 6,\n",
       " 8,\n",
       " 10,\n",
       " 12,\n",
       " 14,\n",
       " 16,\n",
       " 18,\n",
       " 3,\n",
       " 6,\n",
       " 9,\n",
       " 12,\n",
       " 15,\n",
       " 18,\n",
       " 21,\n",
       " 24,\n",
       " 27,\n",
       " 4,\n",
       " 8,\n",
       " 12,\n",
       " 16,\n",
       " 20,\n",
       " 24,\n",
       " 28,\n",
       " 32,\n",
       " 36,\n",
       " 5,\n",
       " 10,\n",
       " 15,\n",
       " 20,\n",
       " 25,\n",
       " 30,\n",
       " 35,\n",
       " 40,\n",
       " 45,\n",
       " 6,\n",
       " 12,\n",
       " 18,\n",
       " 24,\n",
       " 30,\n",
       " 36,\n",
       " 42,\n",
       " 48,\n",
       " 54,\n",
       " 7,\n",
       " 14,\n",
       " 21,\n",
       " 28,\n",
       " 35,\n",
       " 42,\n",
       " 49,\n",
       " 56,\n",
       " 63,\n",
       " 8,\n",
       " 16,\n",
       " 24,\n",
       " 32,\n",
       " 40,\n",
       " 48,\n",
       " 56,\n",
       " 64,\n",
       " 72,\n",
       " 9,\n",
       " 18,\n",
       " 27,\n",
       " 36,\n",
       " 45,\n",
       " 54,\n",
       " 63,\n",
       " 72,\n",
       " 81]"
      ]
     },
     "execution_count": 24,
     "metadata": {},
     "output_type": "execute_result"
    }
   ],
   "source": [
    "result = [a * b for a in range(2, 10)\n",
    "         for b in range(1, 10)]\n",
    "result"
   ]
  },
  {
   "cell_type": "code",
   "execution_count": 22,
   "metadata": {},
   "outputs": [
    {
     "name": "stdout",
     "output_type": "stream",
     "text": [
      "2X1 =  2\n",
      "2X2 =  4\n",
      "2X3 =  6\n",
      "2X4 =  8\n",
      "2X5 =  10\n",
      "2X6 =  12\n",
      "2X7 =  14\n",
      "2X8 =  16\n",
      "2X9 =  18\n",
      "3X1 =  3\n",
      "3X2 =  6\n",
      "3X3 =  9\n",
      "3X4 =  12\n",
      "3X5 =  15\n",
      "3X6 =  18\n",
      "3X7 =  21\n",
      "3X8 =  24\n",
      "3X9 =  27\n",
      "4X1 =  4\n",
      "4X2 =  8\n",
      "4X3 =  12\n",
      "4X4 =  16\n",
      "4X5 =  20\n",
      "4X6 =  24\n",
      "4X7 =  28\n",
      "4X8 =  32\n",
      "4X9 =  36\n",
      "5X1 =  5\n",
      "5X2 =  10\n",
      "5X3 =  15\n",
      "5X4 =  20\n",
      "5X5 =  25\n",
      "5X6 =  30\n",
      "5X7 =  35\n",
      "5X8 =  40\n",
      "5X9 =  45\n",
      "6X1 =  6\n",
      "6X2 =  12\n",
      "6X3 =  18\n",
      "6X4 =  24\n",
      "6X5 =  30\n",
      "6X6 =  36\n",
      "6X7 =  42\n",
      "6X8 =  48\n",
      "6X9 =  54\n",
      "7X1 =  7\n",
      "7X2 =  14\n",
      "7X3 =  21\n",
      "7X4 =  28\n",
      "7X5 =  35\n",
      "7X6 =  42\n",
      "7X7 =  49\n",
      "7X8 =  56\n",
      "7X9 =  63\n",
      "8X1 =  8\n",
      "8X2 =  16\n",
      "8X3 =  24\n",
      "8X4 =  32\n",
      "8X5 =  40\n",
      "8X6 =  48\n",
      "8X7 =  56\n",
      "8X8 =  64\n",
      "8X9 =  72\n",
      "9X1 =  9\n",
      "9X2 =  18\n",
      "9X3 =  27\n",
      "9X4 =  36\n",
      "9X5 =  45\n",
      "9X6 =  54\n",
      "9X7 =  63\n",
      "9X8 =  72\n",
      "9X9 =  81\n"
     ]
    }
   ],
   "source": [
    "result = [print(\"{}X{} = \".format(a, b),a * b) for a in range(2, 10)\n",
    "         for b in range(1, 10)]"
   ]
  },
  {
   "cell_type": "markdown",
   "metadata": {},
   "source": [
    "## Set Comprehension<a name = \"sc\"> </a>"
   ]
  },
  {
   "cell_type": "markdown",
   "metadata": {},
   "source": [
    "Python 3에서 지원하는 형태 List Comprehension 과 매우 흡사하고 Set형태로 return 하는 점이 다르다."
   ]
  },
  {
   "cell_type": "markdown",
   "metadata": {},
   "source": [
    "{출력표현식 **for** 요소 **in** 입력Sequence [**if** 조건식] }"
   ]
  },
  {
   "cell_type": "code",
   "execution_count": 25,
   "metadata": {},
   "outputs": [
    {
     "data": {
      "text/plain": [
       "{1, 4, 9, 16, 25, 36}"
      ]
     },
     "execution_count": 25,
     "metadata": {},
     "output_type": "execute_result"
    }
   ],
   "source": [
    "oldlist = [1, 2, 3, 4, 5, 6]\n",
    "\n",
    "newlist = {i * i for i in oldlist}\n",
    "newlist"
   ]
  },
  {
   "cell_type": "markdown",
   "metadata": {},
   "source": [
    "## Dictionary Comprehension <a name = \"dc\"></a>"
   ]
  },
  {
   "cell_type": "markdown",
   "metadata": {},
   "source": [
    "Dictionary Comprehension또한 Python3에서 지원하는 Data type이며,<br> \n",
    "입력 Sequence로 부터 지정된 표현식에 따라 새로운 Dictionary 컬렉션을 빌드하는 것으로 return value가 Key:Value 형태로 표현된다.<br>\n",
    "<br>\n",
    "{key : value **for** 요소 **in** 입력Sequence [**if**조건식]}"
   ]
  },
  {
   "cell_type": "markdown",
   "metadata": {},
   "source": [
    "아래 예제는 key:value를 전환하는 예제이다."
   ]
  },
  {
   "cell_type": "code",
   "execution_count": 26,
   "metadata": {},
   "outputs": [
    {
     "data": {
      "text/plain": [
       "{'a': 1, 'b': 2, 'c': 3}"
      ]
     },
     "execution_count": 26,
     "metadata": {},
     "output_type": "execute_result"
    }
   ],
   "source": [
    "keyvalue = {1 : 'a', 2 : 'b', 3 : 'c'}\n",
    "\n",
    "valuekey = {val:key for key, val in keyvalue.items()}\n",
    "\n",
    "valuekey"
   ]
  },
  {
   "cell_type": "markdown",
   "metadata": {},
   "source": [
    "아래는 메소드 조건식을 사용한 예제"
   ]
  },
  {
   "cell_type": "code",
   "execution_count": 28,
   "metadata": {},
   "outputs": [
    {
     "data": {
      "text/plain": [
       "{1: 1, 3: 9, 5: 25, 7: 49, 9: 81}"
      ]
     },
     "execution_count": 28,
     "metadata": {},
     "output_type": "execute_result"
    }
   ],
   "source": [
    "def ifdef(x):\n",
    "    return x % 2 == 1\n",
    "test3 = {x:x*x for x in range(11) if ifdef(x)}\n",
    "test3"
   ]
  },
  {
   "cell_type": "markdown",
   "metadata": {},
   "source": [
    "## Lambda Function<a name = 'ld'></a>"
   ]
  },
  {
   "cell_type": "markdown",
   "metadata": {},
   "source": [
    "* 익명함수 : 메모리 사용량을 줄이고 가독성을 향상시킨다. pythonic(파이썬 개발 방식을 따르는것을 의미)\n",
    "* 일반적인 함수는 객체를 만들고, 재사용을 위해 함수 이름(메모리)를 할당한다.\n",
    "* 함수 이름은 아주 필수적인 함수의 요소고 이름이 있어야 호출이 가능하다.\n",
    "* 그러나 경우에 따라 이름이 없어도 되는 경우가 있는데 예를 들어 함수의 클로저 같은 경우이다.\n",
    "* 함수를 함수의 이름이 아닌 특정 변수에 넣고 레퍼런스를 통해 접근하기 떄문에 함수 클로저 자체의 함수명으 ㄹ사용할 일이 없다.\n",
    "* 이렇게 함수에 이름을 주지 않고 사용하는 함수 표기법을 Lambda표기법이라고 한다."
   ]
  },
  {
   "cell_type": "markdown",
   "metadata": {},
   "source": [
    "정의 방법\n",
    "lambda <인수들> : 반환할 식"
   ]
  },
  {
   "cell_type": "code",
   "execution_count": 2,
   "metadata": {},
   "outputs": [
    {
     "name": "stdout",
     "output_type": "stream",
     "text": [
      "<function <lambda> at 0x0000016A23738378>\n",
      "1\n"
     ]
    }
   ],
   "source": [
    "f = lambda : 1\n",
    "print(f)\n",
    "print(f())"
   ]
  },
  {
   "cell_type": "markdown",
   "metadata": {},
   "source": [
    "람다 함수는 값을 반환하기 위해 별도로 return문을 사용하지 않는다.<br>\n",
    "람다 함수의 몸체(body)는 문(Statement)이 아닌 하나의 식(expression)이다.<br> \n",
    "람다 함수의 refernce를 반환한다."
   ]
  },
  {
   "cell_type": "code",
   "execution_count": 3,
   "metadata": {},
   "outputs": [
    {
     "data": {
      "text/plain": [
       "4"
      ]
     },
     "execution_count": 3,
     "metadata": {},
     "output_type": "execute_result"
    }
   ],
   "source": [
    "a = lambda x, y : x * y \n",
    "a(2, 2)"
   ]
  },
  {
   "cell_type": "code",
   "execution_count": 7,
   "metadata": {},
   "outputs": [
    {
     "data": {
      "text/plain": [
       "4"
      ]
     },
     "execution_count": 7,
     "metadata": {},
     "output_type": "execute_result"
    }
   ],
   "source": [
    "b = lambda x, add = 1: x + add # lambda 함수의 add에 초기값 1을 선언\n",
    "b(3)"
   ]
  },
  {
   "cell_type": "code",
   "execution_count": 8,
   "metadata": {},
   "outputs": [
    {
     "data": {
      "text/plain": [
       "9"
      ]
     },
     "execution_count": 8,
     "metadata": {},
     "output_type": "execute_result"
    }
   ],
   "source": [
    "b(3, 6)"
   ]
  },
  {
   "cell_type": "code",
   "execution_count": 12,
   "metadata": {},
   "outputs": [
    {
     "data": {
      "text/plain": [
       "(2, 3, 4, 5, 6)"
      ]
     },
     "execution_count": 12,
     "metadata": {},
     "output_type": "execute_result"
    }
   ],
   "source": [
    "string1 = lambda x, *args: args # 가변 길이 변수인 *args를 선언하여 값을 가변적으로 받는다.\n",
    "string1(1, 2, 3, 4, 5, 6)"
   ]
  },
  {
   "cell_type": "code",
   "execution_count": 13,
   "metadata": {},
   "outputs": [
    {
     "data": {
      "text/plain": [
       "{'a': 1, 'b': 2}"
      ]
     },
     "execution_count": 13,
     "metadata": {},
     "output_type": "execute_result"
    }
   ],
   "source": [
    "kwords = lambda x, *args, **kw: kw # key:value 값을 받을수 있다.\n",
    "kwords(1, 2, 3, 4, a = 1, b = 2)"
   ]
  },
  {
   "cell_type": "markdown",
   "metadata": {},
   "source": [
    "### 일반 함수와 람다 함수의 차이\n",
    "![function](http://cfile8.uf.tistory.com/image/99CB213359BA7A330CB973)"
   ]
  },
  {
   "cell_type": "code",
   "execution_count": 14,
   "metadata": {
    "collapsed": true
   },
   "outputs": [],
   "source": [
    "def func1(x):\n",
    "    return x + x\n",
    "def func2(x):\n",
    "    return x * x\n",
    "def g(func):\n",
    "    return [func(x) for x in range(10)]"
   ]
  },
  {
   "cell_type": "code",
   "execution_count": 15,
   "metadata": {},
   "outputs": [
    {
     "data": {
      "text/plain": [
       "[0, 2, 4, 6, 8, 10, 12, 14, 16, 18]"
      ]
     },
     "execution_count": 15,
     "metadata": {},
     "output_type": "execute_result"
    }
   ],
   "source": [
    "g(func1) # 일반 함수 호출"
   ]
  },
  {
   "cell_type": "code",
   "execution_count": 16,
   "metadata": {},
   "outputs": [
    {
     "data": {
      "text/plain": [
       "[0, 1, 4, 9, 16, 25, 36, 49, 64, 81]"
      ]
     },
     "execution_count": 16,
     "metadata": {},
     "output_type": "execute_result"
    }
   ],
   "source": [
    "g(func2)"
   ]
  },
  {
   "cell_type": "code",
   "execution_count": 19,
   "metadata": {},
   "outputs": [
    {
     "data": {
      "text/plain": [
       "[0, 10, 20, 30, 40, 50, 60, 70, 80, 90]"
      ]
     },
     "execution_count": 19,
     "metadata": {},
     "output_type": "execute_result"
    }
   ],
   "source": [
    "g(lambda x : x * 10) # 람다 함수 호출"
   ]
  },
  {
   "cell_type": "markdown",
   "metadata": {},
   "source": [
    "람다 방식을 사용하면 인수에 바로 함수를 정의 할수 있으므로,<br>\n",
    "func1, func2를 정의 할 필요가 없다.<br>\n",
    "즉, lambda함수는 이름이 없는 함수이고 일반함수보다 간결한 프로그래밍이 가능할 경우 사용한다.<br>\n",
    "**그렇다면 제어문과 lambda함수의 차이는?**\n",
    "제어문과 달리 함수이기 때문에 **가변인수**와 **키워드 인수**를 받을 수 있으므로 활용범위가 넓다."
   ]
  }
 ],
 "metadata": {
  "kernelspec": {
   "display_name": "Python [conda env:Anaconda3]",
   "language": "python",
   "name": "conda-env-Anaconda3-py"
  },
  "language_info": {
   "codemirror_mode": {
    "name": "ipython",
    "version": 3
   },
   "file_extension": ".py",
   "mimetype": "text/x-python",
   "name": "python",
   "nbconvert_exporter": "python",
   "pygments_lexer": "ipython3",
   "version": "3.6.1"
  }
 },
 "nbformat": 4,
 "nbformat_minor": 2
}

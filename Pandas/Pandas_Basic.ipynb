{
 "cells": [
  {
   "cell_type": "markdown",
   "metadata": {},
   "source": [
    "# Pandas basic"
   ]
  },
  {
   "cell_type": "markdown",
   "metadata": {},
   "source": [
    "[pandas basic](http://sacko.tistory.com/18)<br>\n",
    "[Universal function(범용함수):exponential function(지수함수), logarithmic function(로그함수)](http://rfriend.tistory.com/295)<br>\n",
    "아래 내용은 상기 링크를 정리한것"
   ]
  },
  {
   "cell_type": "markdown",
   "metadata": {},
   "source": [
    "Pandas는 웨스 맥키니가 투자 운용회사인 AQR에 재직중이던 2008년 초에 개발하였고 현재 파이썬으로 데이터 과학을 하기 위해 사용되는도구로 사용.<br>\n",
    "NumPy를 기반으로 개발.<br>\n",
    "Pandas는 다음과 같은 기능을 위해 개발.<br>\n",
    "* 축의 이름을 따라 데이터를 정렬는 자료구조(Data structure).<br>\n",
    "다양한 소스에서 가져온 다양한 방식으로 색인된 데이터를 핸들링 가능한 기능\n",
    "* 통합된 시계열 기능\n",
    "* 산술연산 및 한축의 모든 값을 더하는 등의 축약연산이 가능\n",
    "* 누락된 데이터의 유연한 처리기능\n",
    "* SQL 같은 관계연산 수행기능."
   ]
  },
  {
   "cell_type": "markdown",
   "metadata": {},
   "source": [
    "```\n",
    ">>> from pandas import Series, DataFrame\n",
    ">>> import pandas as pd\n",
    ">>> import numpy as np\n",
    "```\n",
    "위의 3줄은 습관처럼 계속해서 사용하는것을 추천\n",
    "<br>\n",
    "<br>"
   ]
  },
  {
   "cell_type": "markdown",
   "metadata": {},
   "source": [
    "## 1.Pandas 자료구조\n",
    "Pandas는 Series, DataFrame 두 자료구조가 가장 중요하다."
   ]
  },
  {
   "cell_type": "markdown",
   "metadata": {},
   "source": [
    "### 1) Series\n",
    "1차원  배열 같은 구조이다.<br>\n",
    "엑셀로 보면 복수의 행(row)으로 이루어진 하나의 열(column) 또는 복수의 열(column)으로 이루어진 하나의 행(row)의 값 이다.<br>\n",
    "엑셀의 색인(index)처럼 데이터의 index를 표시한다."
   ]
  },
  {
   "cell_type": "code",
   "execution_count": 1,
   "metadata": {},
   "outputs": [
    {
     "data": {
      "text/plain": [
       "0    4\n",
       "1    7\n",
       "2   -5\n",
       "3    3\n",
       "dtype: int64"
      ]
     },
     "execution_count": 1,
     "metadata": {},
     "output_type": "execute_result"
    }
   ],
   "source": [
    "from pandas import Series, DataFrame\n",
    "import pandas as pd\n",
    "import numpy as np\n",
    "\n",
    "obj = Series([4, 7, -5, 3])\n",
    "obj"
   ]
  },
  {
   "cell_type": "markdown",
   "metadata": {},
   "source": [
    "위애서 볼 수 있듯이 왼쪽은 행의 index, 오른쪽은 해당 index의 값이다.<br>\n",
    "index는 정수 0부터 시작한다.<br>"
   ]
  },
  {
   "cell_type": "markdown",
   "metadata": {},
   "source": [
    "#### 주요 메서드"
   ]
  },
  {
   "cell_type": "markdown",
   "metadata": {},
   "source": [
    "**Series.values**\n",
    "* 해당 시리즈 객체의 값들만 반환"
   ]
  },
  {
   "cell_type": "code",
   "execution_count": 2,
   "metadata": {},
   "outputs": [
    {
     "data": {
      "text/plain": [
       "array([ 4,  7, -5,  3])"
      ]
     },
     "execution_count": 2,
     "metadata": {},
     "output_type": "execute_result"
    }
   ],
   "source": [
    "# ex\n",
    "obj.values"
   ]
  },
  {
   "cell_type": "markdown",
   "metadata": {},
   "source": [
    "**Series.index**\n",
    "* 해당 시리즈의 색인(index)만 반환"
   ]
  },
  {
   "cell_type": "code",
   "execution_count": 3,
   "metadata": {},
   "outputs": [
    {
     "data": {
      "text/plain": [
       "RangeIndex(start=0, stop=4, step=1)"
      ]
     },
     "execution_count": 3,
     "metadata": {},
     "output_type": "execute_result"
    }
   ],
   "source": [
    "# ex\n",
    "obj.index"
   ]
  },
  {
   "cell_type": "markdown",
   "metadata": {},
   "source": [
    "**Series(배열, index = 지정하고 싶은 index list)**\n",
    "* Series 객체를 생성할 때 색인을 미리 지정할 수 있다.<br>\n",
    "  색인 리스트는 보통 색인의 값을 따로 저장한다."
   ]
  },
  {
   "cell_type": "code",
   "execution_count": 4,
   "metadata": {},
   "outputs": [
    {
     "data": {
      "text/plain": [
       "a    5\n",
       "b    4\n",
       "c    3\n",
       "d    1\n",
       "e    2\n",
       "dtype: int64"
      ]
     },
     "execution_count": 4,
     "metadata": {},
     "output_type": "execute_result"
    }
   ],
   "source": [
    "# ex\n",
    "data = [5, 4, 3, 1, 2]\n",
    "index_list = ['a', 'b', 'c', 'd', 'e']\n",
    "a = Series(data, index=index_list)\n",
    "a"
   ]
  },
  {
   "cell_type": "code",
   "execution_count": 5,
   "metadata": {},
   "outputs": [
    {
     "data": {
      "text/plain": [
       "Index(['a', 'b', 'c', 'd', 'e'], dtype='object')"
      ]
     },
     "execution_count": 5,
     "metadata": {},
     "output_type": "execute_result"
    }
   ],
   "source": [
    "# ex2\n",
    "a.index"
   ]
  },
  {
   "cell_type": "markdown",
   "metadata": {},
   "source": [
    "**Series[index]**\n",
    "* 배열에서 값을 선택하거나 대입할 때는 색인을 이용한다.<br>\n",
    "이는 파이썬의 일반적인 자료 접근 방식과 비슷<br>"
   ]
  },
  {
   "cell_type": "code",
   "execution_count": 6,
   "metadata": {},
   "outputs": [
    {
     "data": {
      "text/plain": [
       "3"
      ]
     },
     "execution_count": 6,
     "metadata": {},
     "output_type": "execute_result"
    }
   ],
   "source": [
    "# ex\n",
    "a['c']"
   ]
  },
  {
   "cell_type": "markdown",
   "metadata": {},
   "source": [
    "**Series[conditions]**\n",
    "* conditions에는 논리연산이 올 수 있다.<br>\n",
    "a라는 Series가 있다고 했을 때, a[a>0]은 a라는 Series에서 값이 0 이상인 것만 반환하라는 의미이다.<br>\n",
    "conditions는 파이썬에서 사용하는 conditions는 모두 올 수 있다.<br>\n",
    "비슷하게 NumPy에서 벡터 연산을 한 것 처럼 Series도 비슷하게 산술연산을 하거나 수학 함수를 적용할 수 있다.<br>\n",
    "물론 각 값에 해당 연산이 수행된다.<br>\n",
    "NumPy 배열 연산을 Pandas 자료구조에도 적용할 수 있다."
   ]
  },
  {
   "cell_type": "code",
   "execution_count": 16,
   "metadata": {},
   "outputs": [
    {
     "data": {
      "text/plain": [
       "a    10\n",
       "b     8\n",
       "c     6\n",
       "d     2\n",
       "e     4\n",
       "dtype: int64"
      ]
     },
     "execution_count": 16,
     "metadata": {},
     "output_type": "execute_result"
    }
   ],
   "source": [
    "a_2 = a * 2\n",
    "a_2"
   ]
  },
  {
   "cell_type": "code",
   "execution_count": 20,
   "metadata": {},
   "outputs": [
    {
     "data": {
      "text/plain": [
       "a    10\n",
       "b     8\n",
       "c     6\n",
       "dtype: int64"
      ]
     },
     "execution_count": 20,
     "metadata": {},
     "output_type": "execute_result"
    }
   ],
   "source": [
    "a_2[a_2 > 5]"
   ]
  },
  {
   "cell_type": "markdown",
   "metadata": {},
   "source": [
    "#### Universal function(범용함수)"
   ]
  },
  {
   "cell_type": "markdown",
   "metadata": {},
   "source": [
    "* exponential function(지수함수)<br>\n",
    "exponential function은 아래 왼쪽의 그래프처럼 $f(x) = a_0 \\times a^x$인 함수를 말한다.<br>\n",
    "아래[그림1] 왼쪽의 지수함수 예시 그래프는 $y=2^x$ 지수함수의 그래프로서, $(x=0, y=1), (x=1, y=2)$지점을 나타낸다.<br>\n",
    "<br>\n",
    "* logarithmic function(로그함수)<br>\n",
    "logarithmic function은 지수함수의 역함수(inverse function)이다.<br>\n",
    "즉 아래[그림1] 그래프의 예를 들자면 지수 함수였던 $y=2^x$의 역함수는 $x=2^y$함수이다.<br>\n",
    "이를 표기하기 쉽도록 $ y = \\log_2 x$라고 약속한것. (밑이 '2'인 로그함수)"
   ]
  },
  {
   "cell_type": "markdown",
   "metadata": {},
   "source": [
    "[그림 1] exponential function(지수함수) & inverse function(로그함수)의 관계 및 그래프 예시<br>\n",
    "![지수, 로그 함수](http://cfile25.uf.tistory.com/image/215A9B4858C4120421B0B4)"
   ]
  },
  {
   "cell_type": "markdown",
   "metadata": {},
   "source": [
    "특히, 자연상수 e를 밑으로 하는 로그함수를 natural logarithm(자연로그)라고 하며,<br>\n",
    "$y = \\log_e x $ 처럼 쓱ㅣ 보다는 보통 자연상수 e를 생략하고 그냥 $y=\\log x$ 혹은 $ y = \\ln(x)$로 쓰곤한다.<br>"
   ]
  },
  {
   "cell_type": "code",
   "execution_count": 18,
   "metadata": {},
   "outputs": [
    {
     "data": {
      "text/plain": [
       "a    148.413159\n",
       "b     54.598150\n",
       "c     20.085537\n",
       "d      2.718282\n",
       "e      7.389056\n",
       "dtype: float64"
      ]
     },
     "execution_count": 18,
     "metadata": {},
     "output_type": "execute_result"
    }
   ],
   "source": [
    "np.exp(a) "
   ]
  },
  {
   "cell_type": "markdown",
   "metadata": {},
   "source": []
  },
  {
   "cell_type": "markdown",
   "metadata": {},
   "source": [
    "**Dictionary to Series**\n",
    "* 파이썬 dictionary 객체를 Series 객체로 생성할 수도 있음<br>\n",
    "**{ index:value, index:value, ....}**"
   ]
  },
  {
   "cell_type": "code",
   "execution_count": 24,
   "metadata": {},
   "outputs": [
    {
     "data": {
      "text/plain": [
       "a    5\n",
       "b    4\n",
       "c    3\n",
       "d    1\n",
       "e    2\n",
       "dtype: int64"
      ]
     },
     "execution_count": 24,
     "metadata": {},
     "output_type": "execute_result"
    }
   ],
   "source": [
    "b = {}\n",
    "b = a\n",
    "b"
   ]
  },
  {
   "cell_type": "markdown",
   "metadata": {},
   "source": [
    "**Series.isull()**\n",
    "* pd.isnull(object) <br>\n",
    "pd.notnull(object)<br>\n",
    "누락된 데이터가 있는지 없는지 확인할 때 사용함.<br>\n",
    "Series에서는 메소드로 기능 제공"
   ]
  },
  {
   "cell_type": "code",
   "execution_count": 32,
   "metadata": {},
   "outputs": [
    {
     "data": {
      "text/plain": [
       "a    1.0\n",
       "b    2.0\n",
       "c    NaN\n",
       "d    NaN\n",
       "e    NaN\n",
       "dtype: float64"
      ]
     },
     "execution_count": 32,
     "metadata": {},
     "output_type": "execute_result"
    }
   ],
   "source": [
    "data2 = [1, 2, None, None, None]\n",
    "c = Series(data2, index=index_list)\n",
    "c"
   ]
  },
  {
   "cell_type": "code",
   "execution_count": 33,
   "metadata": {},
   "outputs": [
    {
     "data": {
      "text/plain": [
       "a    False\n",
       "b    False\n",
       "c     True\n",
       "d     True\n",
       "e     True\n",
       "dtype: bool"
      ]
     },
     "execution_count": 33,
     "metadata": {},
     "output_type": "execute_result"
    }
   ],
   "source": [
    "pd.isnull(c)"
   ]
  },
  {
   "cell_type": "code",
   "execution_count": 34,
   "metadata": {},
   "outputs": [
    {
     "data": {
      "text/plain": [
       "a     True\n",
       "b     True\n",
       "c    False\n",
       "d    False\n",
       "e    False\n",
       "dtype: bool"
      ]
     },
     "execution_count": 34,
     "metadata": {},
     "output_type": "execute_result"
    }
   ],
   "source": [
    "pd.notnull(c)"
   ]
  },
  {
   "cell_type": "markdown",
   "metadata": {},
   "source": [
    "Series는 산순연산도 가능하며 Series의 색인은 모두 name속성이 있음.\n",
    "* **object.name** = '@@@' // Series에 대한 이름<br>\n",
    "**object.index.name** = '@@@' // index에 대한 이름"
   ]
  },
  {
   "cell_type": "code",
   "execution_count": 38,
   "metadata": {},
   "outputs": [
    {
     "data": {
      "text/plain": [
       "'series name'"
      ]
     },
     "execution_count": 38,
     "metadata": {},
     "output_type": "execute_result"
    }
   ],
   "source": [
    "c.name = \"series name\"\n",
    "c.name"
   ]
  },
  {
   "cell_type": "code",
   "execution_count": 40,
   "metadata": {},
   "outputs": [
    {
     "data": {
      "text/plain": [
       "'series index name'"
      ]
     },
     "execution_count": 40,
     "metadata": {},
     "output_type": "execute_result"
    }
   ],
   "source": [
    "c.index.name = 'series index name'\n",
    "c.index.name"
   ]
  },
  {
   "cell_type": "markdown",
   "metadata": {},
   "source": [
    "### 2.Data Frame"
   ]
  },
  {
   "cell_type": "markdown",
   "metadata": {},
   "source": [
    "하나의 열이 여러개 모이면 행렬의 형태가 된다.<br> \n",
    "DataFrame은 이러한 행렬(엑셀의 스프레드시트)의 자료구조를 가진다.<br>\n",
    "각 열(column)에서는 서로다른 종류의 값(숫자, 문자열, 불리언 등)을 가질 수 있다.<br>\n",
    "Seiries가 복수개 합쳐진 형태라고 생각하면 된다.<br>\n",
    "하나의 Series는 동일한 자료형을 가진다.<br>\n",
    "<br>\n",
    "DataFrame도 Series 처럼 파이썬 사전 객체로 생성할 수 있는데 다음과 같이 한다.<br>\n",
    "<br>"
   ]
  },
  {
   "cell_type": "code",
   "execution_count": 20,
   "metadata": {
    "scrolled": true
   },
   "outputs": [
    {
     "data": {
      "text/html": [
       "<div>\n",
       "<style scoped>\n",
       "    .dataframe tbody tr th:only-of-type {\n",
       "        vertical-align: middle;\n",
       "    }\n",
       "\n",
       "    .dataframe tbody tr th {\n",
       "        vertical-align: top;\n",
       "    }\n",
       "\n",
       "    .dataframe thead th {\n",
       "        text-align: right;\n",
       "    }\n",
       "</style>\n",
       "<table border=\"1\" class=\"dataframe\">\n",
       "  <thead>\n",
       "    <tr style=\"text-align: right;\">\n",
       "      <th></th>\n",
       "      <th>age</th>\n",
       "      <th>name</th>\n",
       "      <th>score</th>\n",
       "    </tr>\n",
       "  </thead>\n",
       "  <tbody>\n",
       "    <tr>\n",
       "      <th>0</th>\n",
       "      <td>31</td>\n",
       "      <td>insung</td>\n",
       "      <td>91.3</td>\n",
       "    </tr>\n",
       "    <tr>\n",
       "      <th>1</th>\n",
       "      <td>24</td>\n",
       "      <td>jieun</td>\n",
       "      <td>84.2</td>\n",
       "    </tr>\n",
       "    <tr>\n",
       "      <th>2</th>\n",
       "      <td>13</td>\n",
       "      <td>andrew</td>\n",
       "      <td>14.2</td>\n",
       "    </tr>\n",
       "  </tbody>\n",
       "</table>\n",
       "</div>"
      ],
      "text/plain": [
       "   age    name  score\n",
       "0   31  insung   91.3\n",
       "1   24   jieun   84.2\n",
       "2   13  andrew   14.2"
      ]
     },
     "execution_count": 20,
     "metadata": {},
     "output_type": "execute_result"
    }
   ],
   "source": [
    "import numpy as np\n",
    "import pandas as pd\n",
    "from pandas import Series, DataFrame\n",
    "\n",
    "data = {'name' : ['insung', 'jieun', 'andrew'],\n",
    "       'age' : [31, 24, 13],\n",
    "       'score' : [91.3, 84.2, 14.2]}\n",
    "frame = DataFrame(data)\n",
    "frame"
   ]
  },
  {
   "cell_type": "code",
   "execution_count": 21,
   "metadata": {},
   "outputs": [
    {
     "data": {
      "text/plain": [
       "0    31\n",
       "1    24\n",
       "2    13\n",
       "Name: age, dtype: int64"
      ]
     },
     "execution_count": 21,
     "metadata": {},
     "output_type": "execute_result"
    }
   ],
   "source": [
    "frame['age']"
   ]
  },
  {
   "cell_type": "markdown",
   "metadata": {},
   "source": [
    "Series와 동일하게 data에 null 값을 index(색인, row)나 column으로 넘기면 NaN 값이 저장된다."
   ]
  },
  {
   "cell_type": "code",
   "execution_count": 34,
   "metadata": {},
   "outputs": [
    {
     "data": {
      "text/html": [
       "<div>\n",
       "<style scoped>\n",
       "    .dataframe tbody tr th:only-of-type {\n",
       "        vertical-align: middle;\n",
       "    }\n",
       "\n",
       "    .dataframe tbody tr th {\n",
       "        vertical-align: top;\n",
       "    }\n",
       "\n",
       "    .dataframe thead th {\n",
       "        text-align: right;\n",
       "    }\n",
       "</style>\n",
       "<table border=\"1\" class=\"dataframe\">\n",
       "  <thead>\n",
       "    <tr style=\"text-align: right;\">\n",
       "      <th></th>\n",
       "      <th>age</th>\n",
       "      <th>name</th>\n",
       "      <th>score</th>\n",
       "      <th>b</th>\n",
       "      <th>a</th>\n",
       "    </tr>\n",
       "  </thead>\n",
       "  <tbody>\n",
       "    <tr>\n",
       "      <th>0</th>\n",
       "      <td>0</td>\n",
       "      <td>insung</td>\n",
       "      <td>91.3</td>\n",
       "      <td>0.0</td>\n",
       "      <td></td>\n",
       "    </tr>\n",
       "    <tr>\n",
       "      <th>1</th>\n",
       "      <td>0</td>\n",
       "      <td>jieun</td>\n",
       "      <td>84.2</td>\n",
       "      <td>1.0</td>\n",
       "      <td></td>\n",
       "    </tr>\n",
       "    <tr>\n",
       "      <th>2</th>\n",
       "      <td>0</td>\n",
       "      <td>andrew</td>\n",
       "      <td>14.2</td>\n",
       "      <td>2.0</td>\n",
       "      <td></td>\n",
       "    </tr>\n",
       "  </tbody>\n",
       "</table>\n",
       "</div>"
      ],
      "text/plain": [
       "   age    name  score    b a\n",
       "0    0  insung   91.3  0.0  \n",
       "1    0   jieun   84.2  1.0  \n",
       "2    0  andrew   14.2  2.0  "
      ]
     },
     "execution_count": 34,
     "metadata": {},
     "output_type": "execute_result"
    }
   ],
   "source": [
    "frame['a'] = ['','','']\n",
    "frame"
   ]
  },
  {
   "cell_type": "code",
   "execution_count": 41,
   "metadata": {},
   "outputs": [
    {
     "name": "stderr",
     "output_type": "stream",
     "text": [
      "C:\\ProgramData\\Anaconda3\\lib\\site-packages\\ipykernel_launcher.py:1: SettingWithCopyWarning: \n",
      "A value is trying to be set on a copy of a slice from a DataFrame\n",
      "\n",
      "See the caveats in the documentation: http://pandas.pydata.org/pandas-docs/stable/indexing.html#indexing-view-versus-copy\n",
      "  \"\"\"Entry point for launching an IPython kernel.\n"
     ]
    },
    {
     "data": {
      "text/html": [
       "<div>\n",
       "<style scoped>\n",
       "    .dataframe tbody tr th:only-of-type {\n",
       "        vertical-align: middle;\n",
       "    }\n",
       "\n",
       "    .dataframe tbody tr th {\n",
       "        vertical-align: top;\n",
       "    }\n",
       "\n",
       "    .dataframe thead th {\n",
       "        text-align: right;\n",
       "    }\n",
       "</style>\n",
       "<table border=\"1\" class=\"dataframe\">\n",
       "  <thead>\n",
       "    <tr style=\"text-align: right;\">\n",
       "      <th></th>\n",
       "      <th>age</th>\n",
       "      <th>name</th>\n",
       "      <th>score</th>\n",
       "      <th>b</th>\n",
       "      <th>a</th>\n",
       "    </tr>\n",
       "  </thead>\n",
       "  <tbody>\n",
       "    <tr>\n",
       "      <th>0</th>\n",
       "      <td>0</td>\n",
       "      <td>insung</td>\n",
       "      <td>91.3</td>\n",
       "      <td>0.0</td>\n",
       "      <td></td>\n",
       "    </tr>\n",
       "    <tr>\n",
       "      <th>1</th>\n",
       "      <td>0</td>\n",
       "      <td>jieun</td>\n",
       "      <td></td>\n",
       "      <td>1.0</td>\n",
       "      <td></td>\n",
       "    </tr>\n",
       "    <tr>\n",
       "      <th>2</th>\n",
       "      <td>0</td>\n",
       "      <td>andrew</td>\n",
       "      <td>14.2</td>\n",
       "      <td>2.0</td>\n",
       "      <td></td>\n",
       "    </tr>\n",
       "  </tbody>\n",
       "</table>\n",
       "</div>"
      ],
      "text/plain": [
       "   age    name score    b a\n",
       "0    0  insung  91.3  0.0  \n",
       "1    0   jieun        1.0  \n",
       "2    0  andrew  14.2  2.0  "
      ]
     },
     "execution_count": 41,
     "metadata": {},
     "output_type": "execute_result"
    }
   ],
   "source": [
    "frame['score'][1] = ''\n",
    "frame"
   ]
  },
  {
   "cell_type": "markdown",
   "metadata": {},
   "source": [
    "#### 주요 메서드\n",
    "**DataFrame(data, columns = column_list, index = index_list)**<br>\n",
    "<br>\n",
    "DataFrame[column_name], DataFrame.column_name\n",
    "* DataFrame은 dictionary처럼 index으로 컬럼에 접근('[]')할 수 있고<br>\n",
    "속성('attribute')으로 접근하는 방법은('.')을 이용하는것이다.<br>\n",
    "column(열)을 불러오고 값을 대입할 수 있으며, Series와 동일한 방식이다.<br>"
   ]
  },
  {
   "cell_type": "code",
   "execution_count": 43,
   "metadata": {},
   "outputs": [
    {
     "name": "stdout",
     "output_type": "stream",
     "text": [
      "   age    name score    b a\n",
      "0    0  insung  91.3  0.0  \n",
      "1    0   jieun        1.0  \n",
      "2    0  andrew  14.2  2.0  \n",
      "()\n",
      "0    0\n",
      "1    0\n",
      "2    0\n",
      "Name: age, dtype: int64\n",
      "()\n",
      "0    0\n",
      "1    0\n",
      "2    0\n",
      "Name: age, dtype: int64\n"
     ]
    }
   ],
   "source": [
    "# ex\n",
    "df = frame\n",
    "print(df)\n",
    "print()\n",
    "print(df['age'])\n",
    "print()\n",
    "print(df.age)"
   ]
  },
  {
   "cell_type": "code",
   "execution_count": 36,
   "metadata": {},
   "outputs": [
    {
     "data": {
      "text/plain": [
       "0    0\n",
       "1    0\n",
       "2    0\n",
       "Name: age, dtype: int64"
      ]
     },
     "execution_count": 36,
     "metadata": {},
     "output_type": "execute_result"
    }
   ],
   "source": [
    "df['age'] = 0 #a 라는 열 colomn의 값은 모두 영으로 대입\n",
    "df['age']"
   ]
  },
  {
   "cell_type": "markdown",
   "metadata": {},
   "source": [
    "배열의 값도 대입 할수 있다."
   ]
  },
  {
   "cell_type": "code",
   "execution_count": 37,
   "metadata": {},
   "outputs": [
    {
     "data": {
      "text/plain": [
       "0    0.0\n",
       "1    1.0\n",
       "2    2.0\n",
       "Name: b, dtype: float64"
      ]
     },
     "execution_count": 37,
     "metadata": {},
     "output_type": "execute_result"
    }
   ],
   "source": [
    "df['b'] = np.arange(3.)\n",
    "df['b'] "
   ]
  },
  {
   "cell_type": "code",
   "execution_count": 38,
   "metadata": {},
   "outputs": [
    {
     "data": {
      "text/html": [
       "<div>\n",
       "<style scoped>\n",
       "    .dataframe tbody tr th:only-of-type {\n",
       "        vertical-align: middle;\n",
       "    }\n",
       "\n",
       "    .dataframe tbody tr th {\n",
       "        vertical-align: top;\n",
       "    }\n",
       "\n",
       "    .dataframe thead th {\n",
       "        text-align: right;\n",
       "    }\n",
       "</style>\n",
       "<table border=\"1\" class=\"dataframe\">\n",
       "  <thead>\n",
       "    <tr style=\"text-align: right;\">\n",
       "      <th></th>\n",
       "      <th>age</th>\n",
       "      <th>name</th>\n",
       "      <th>score</th>\n",
       "      <th>b</th>\n",
       "      <th>a</th>\n",
       "    </tr>\n",
       "  </thead>\n",
       "  <tbody>\n",
       "    <tr>\n",
       "      <th>0</th>\n",
       "      <td>0</td>\n",
       "      <td>insung</td>\n",
       "      <td>91.3</td>\n",
       "      <td>0.0</td>\n",
       "      <td></td>\n",
       "    </tr>\n",
       "    <tr>\n",
       "      <th>1</th>\n",
       "      <td>0</td>\n",
       "      <td>jieun</td>\n",
       "      <td>84.2</td>\n",
       "      <td>1.0</td>\n",
       "      <td></td>\n",
       "    </tr>\n",
       "    <tr>\n",
       "      <th>2</th>\n",
       "      <td>0</td>\n",
       "      <td>andrew</td>\n",
       "      <td>14.2</td>\n",
       "      <td>2.0</td>\n",
       "      <td></td>\n",
       "    </tr>\n",
       "  </tbody>\n",
       "</table>\n",
       "</div>"
      ],
      "text/plain": [
       "   age    name  score    b a\n",
       "0    0  insung   91.3  0.0  \n",
       "1    0   jieun   84.2  1.0  \n",
       "2    0  andrew   14.2  2.0  "
      ]
     },
     "execution_count": 38,
     "metadata": {},
     "output_type": "execute_result"
    }
   ],
   "source": [
    "df"
   ]
  },
  {
   "cell_type": "markdown",
   "metadata": {},
   "source": [
    "list나 array의 값을 열(column)에 대입 할때는 대입하려는 값의 길이가 Dataframe의 크기와 같아야 한다.<br>\n",
    "<br>\n",
    "없는 컬럼을 대입하면 새로운 컬럼이 생성된다."
   ]
  },
  {
   "cell_type": "markdown",
   "metadata": {},
   "source": [
    "<br>\n",
    "Dataframe[column] = statement\n",
    "* "
   ]
  }
 ],
 "metadata": {
  "kernelspec": {
   "display_name": "Python 2",
   "language": "python",
   "name": "python2"
  },
  "language_info": {
   "codemirror_mode": {
    "name": "ipython",
    "version": 2
   },
   "file_extension": ".py",
   "mimetype": "text/x-python",
   "name": "python",
   "nbconvert_exporter": "python",
   "pygments_lexer": "ipython2",
   "version": "2.7.14"
  }
 },
 "nbformat": 4,
 "nbformat_minor": 2
}

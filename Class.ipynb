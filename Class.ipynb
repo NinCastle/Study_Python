{
 "cells": [
  {
   "cell_type": "markdown",
   "metadata": {},
   "source": [
    "# Class"
   ]
  },
  {
   "cell_type": "markdown",
   "metadata": {},
   "source": [
    "[Class-1](https://wikidocs.net/28)<br>\n",
    "아래 내용은 상기 링크를 정리한 것"
   ]
  },
  {
   "cell_type": "markdown",
   "metadata": {},
   "source": [
    "## What is self"
   ]
  },
  {
   "cell_type": "code",
   "execution_count": 1,
   "metadata": {},
   "outputs": [],
   "source": [
    "def setdata(self, first, second):   # ① 메서드의 매개변수\n",
    "    self.first = first              # ② 메서드의 수행문\n",
    "    self.second = second            # ② 메서드의 수행문"
   ]
  },
  {
   "cell_type": "markdown",
   "metadata": {},
   "source": [
    "매개변수 self는 특별한 의미를 가지고 있다.<br>\n",
    "```\n",
    ">>> a = FourCal()\n",
    ">>> a.setdata(4, 2)\n",
    "```"
   ]
  },
  {
   "cell_type": "markdown",
   "metadata": {},
   "source": [
    "위 에서 보는것 처럼 먼저 a라는 객체를 만들었다.<br>\n",
    "그리고 a라는 객체를 통해 setdata함수를 호출하였다.<br>\n",
    "그런데 뭔가 좀 이상하다.<br>\n",
    "setdata 메서드는 self, first, second라는 총 3개의 매개변수를 필요로 하는데 실제로는 a.setdata(4, 2) 처럼<br>\n",
    "4 와 2라는 두개의 값만 전달한 것이다.<br>"
   ]
  },
  {
   "cell_type": "markdown",
   "metadata": {},
   "source": [
    "왜 그럴까?<br>\n",
    "<br>\n",
    "그 이유는 a.setdata(4, 2)처럼 호출하면 <br>\n",
    "setdata 메서드의 첫 번째 매개변수 self에는 setdata메서드를 호출한 객체 a가 자동으로 전달되기 떄문이다.<br>\n",
    "<br>\n",
    "다음 그림을 보면 객체와 호출 입력 값들이 메서드에 어떻게 전달되는지 쉽게 이해가 갈것.<br>\n",
    "<br>\n",
    "![how to send self](https://wikidocs.net/images/page/12392/setdata.png)"
   ]
  },
  {
   "cell_type": "markdown",
   "metadata": {},
   "source": [
    "파이썬 클래스에서 가장 헷갈리는 부분이 바로 이 부분이다.<br>\n",
    "파이썬 메서드의 첫번째 매개변수명은 관례적으로 self라는 이름을 사용한다.<br>\n",
    "호출시 호풀한 객체 자신이 전달되기 때문에 self(\"self\"는 자기자신이라는 뜻을 가진 영어단어)<br>\n",
    "라는 이름을 사용하게 된 것이다. 물론 self말고 다른 이름을 사용해도 상관은 없다.<br>\n",
    "<br>\n",
    "(참고, 메서드의 첫번째 매개변수를 self를 명시적으로 구현해야 하는 것은 파이썬만의 독특한 특징이다.<br>\n",
    "예를 들어 자바 같은 언어는 첫번째 매개변수인 self가 필요없다.)"
   ]
  }
 ],
 "metadata": {
  "kernelspec": {
   "display_name": "Python 2",
   "language": "python",
   "name": "python2"
  },
  "language_info": {
   "codemirror_mode": {
    "name": "ipython",
    "version": 2
   },
   "file_extension": ".py",
   "mimetype": "text/x-python",
   "name": "python",
   "nbconvert_exporter": "python",
   "pygments_lexer": "ipython2",
   "version": "2.7.14"
  }
 },
 "nbformat": 4,
 "nbformat_minor": 2
}

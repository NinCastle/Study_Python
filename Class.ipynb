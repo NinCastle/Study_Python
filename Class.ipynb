{
 "cells": [
  {
   "cell_type": "markdown",
   "metadata": {},
   "source": [
    "# Class"
   ]
  },
  {
   "cell_type": "markdown",
   "metadata": {},
   "source": [
    "[점프 투 파이썬 - Class](https://wikidocs.net/28)<br>\n",
    "아래 내용은 상기 링크를 정리한 것"
   ]
  },
  {
   "cell_type": "markdown",
   "metadata": {},
   "source": [
    "## 클래스 존재의 이유"
   ]
  },
  {
   "cell_type": "markdown",
   "metadata": {},
   "source": [
    "단순한 계산기를 함수로 구현하면 아래와 같다."
   ]
  },
  {
   "cell_type": "code",
   "execution_count": 2,
   "metadata": {},
   "outputs": [
    {
     "name": "stdout",
     "output_type": "stream",
     "text": [
      "3\n",
      "7\n"
     ]
    }
   ],
   "source": [
    "result = 0\n",
    "\n",
    "def add(num):\n",
    "    global result\n",
    "    result += num\n",
    "    return result\n",
    "\n",
    "print(add(3))\n",
    "print(add(4))"
   ]
  },
  {
   "cell_type": "markdown",
   "metadata": {},
   "source": [
    "이전에 계산된 결과값을 유지하기 위해서 result라는 전역 변수(global)를 사용했다.  \n",
    "실행하면 예상한 대로 위와 같은 결과값이 출력된다."
   ]
  },
  {
   "cell_type": "markdown",
   "metadata": {},
   "source": [
    "그런데 만약 한 프로그램에서 2개의 계산기가 필요한 상황이 발생하면 어떻게 해야 할까?  \n",
    "각각의 계산기는 각각의 결과값을 유지해야 하기 때문에 위와 같이 add 함수 하나만으로는 결과 값을 따로 유지할 수 없다.  \n",
    "이런 상황을 해결하려면 다음과 같이 함수를 각각 따로 만들어야 한다.  "
   ]
  },
  {
   "cell_type": "code",
   "execution_count": 3,
   "metadata": {},
   "outputs": [
    {
     "name": "stdout",
     "output_type": "stream",
     "text": [
      "3\n",
      "7\n",
      "4\n",
      "9\n"
     ]
    }
   ],
   "source": [
    "result1 = 0\n",
    "result2 = 0\n",
    "\n",
    "def add1(num):\n",
    "    global result1\n",
    "    result1 += num\n",
    "    return result1\n",
    "\n",
    "def add2(num):\n",
    "    global result2\n",
    "    result2 += num\n",
    "    return result2\n",
    "\n",
    "print(add1(3))\n",
    "print(add1(4))\n",
    "print(add2(4))\n",
    "print(add2(5))"
   ]
  },
  {
   "cell_type": "markdown",
   "metadata": {},
   "source": [
    "똑같은 일을 하는 add1과 add2라는 함수가 생겼고, 각각의 함수에서 계산된 결과값을 유지하면서 저장하기 위한 전역변수 result1, result2가 필요하게 되었다.  "
   ]
  },
  {
   "cell_type": "markdown",
   "metadata": {},
   "source": [
    "따로 결과를 출력하기를 원했고 함수를 2개 생성한 결과 add1 값이 add2 값과 아무런 관계를 가지지못하는 것을 확인 했다.  \n",
    "그렇다면 더 많은 다른 출력값을 원한다면 여러개 만들어야 할까?  \n",
    "이제 클래스를 이용하여 이러한 문제를 처리한다."
   ]
  },
  {
   "cell_type": "markdown",
   "metadata": {},
   "source": [
    "클래스를 이용한 계산기"
   ]
  },
  {
   "cell_type": "code",
   "execution_count": 5,
   "metadata": {},
   "outputs": [
    {
     "name": "stdout",
     "output_type": "stream",
     "text": [
      "3\n",
      "7\n",
      "4\n",
      "9\n"
     ]
    }
   ],
   "source": [
    "class Calculator:\n",
    "    def __init__(self):\n",
    "        self.result = 0\n",
    "    def add(self, num):\n",
    "        self.result += num\n",
    "        return self.result\n",
    "    \n",
    "cal1 = Calculator()\n",
    "cal2 = Calculator()\n",
    "\n",
    "print(cal1.add(3))\n",
    "print(cal1.add(4))\n",
    "print(cal2.add(4))\n",
    "print(cal2.add(5))"
   ]
  },
  {
   "cell_type": "markdown",
   "metadata": {},
   "source": [
    "두개의 함수를 실행 했을때와 동일한 결과가 나타난다."
   ]
  },
  {
   "cell_type": "markdown",
   "metadata": {},
   "source": [
    "Calculator 클래스로 만들어진 cal1, cal2라는 별개의 계산기(객체)가 각각의 역활을 수행한다.  \n",
    "그리고 계산기(cal1, cal2)의 결과값 역시 다른 계산기의 결과값과 상관없이 독립적인 결과값을 유지한다.  \n",
    "클래스를 이용하면 계산기의 개수가 늘어나더라도 객체를 생성하기만 하면 되기 때문에 함수를 사용하는 경와 달리 매우 간단해진다.  "
   ]
  },
  {
   "cell_type": "markdown",
   "metadata": {},
   "source": [
    "만약 빼기 기능이 더해진다고 해도 Calculator 클래스에 다음과 같은 빼기 기능 함수를 추가해주면된다."
   ]
  },
  {
   "cell_type": "code",
   "execution_count": 7,
   "metadata": {},
   "outputs": [],
   "source": [
    "class calculator2:\n",
    "    def __init__(self):\n",
    "        self.num = 0\n",
    "    def add(self, num):\n",
    "        self.result += num\n",
    "        return self.result\n",
    "    def sub(self, num):\n",
    "        self.result -= num\n",
    "        return self.result"
   ]
  },
  {
   "cell_type": "markdown",
   "metadata": {},
   "source": [
    "위 기능만으로 클래스는 왜 필요한 것인지에 대한 근본적인 궁금증이 해결 될것이다."
   ]
  },
  {
   "cell_type": "markdown",
   "metadata": {},
   "source": [
    "## 클래스와 객체"
   ]
  },
  {
   "cell_type": "markdown",
   "metadata": {},
   "source": [
    "클래스를 가장 잘 설명해주는 다음의 사진을 본다. <br>\n",
    "<br>\n",
    "![](http://wikidocs.net/images/page/214/c1.png)<br>\n",
    "<br>\n",
    "과자를 만드는 과자틀과 만들어진 과자들이다.<br>\n",
    "<br>\n",
    "* 과자틀 $\\rightarrow$ 클래스(class)\n",
    "* 과자틀에 의해서 만들어진 과자들 $\\rightarrow$ 객체(object)"
   ]
  },
  {
   "cell_type": "markdown",
   "metadata": {},
   "source": [
    "클래스(class)란 똑같은 무엇인가를 계속해서 만들어낼 수 있게 설계 도면과 같은것이고(과자 틀),  \n",
    "객체(object)란 클래스에 의해서 만들어진 생성물(과자틀에 의해서 만들어진 과자)이다."
   ]
  },
  {
   "cell_type": "markdown",
   "metadata": {},
   "source": [
    "클래스에 의해서 만들어진 객체에는 중요한 특징이 있다.  \n",
    "그것은 객체별로 독립적인 성격을 갖는다는 것이다.  \n",
    "과자틀에 의해서 만들어진 과자에 구멍을 뚫거나 조금 베어 먹더라도 다른 과자들에는 아무런 영향이 없는 것과 마찬가지로 동일한 클래스에 의해 생성된 객체들은 서로에게 전혀 영향을 주지 않는다."
   ]
  },
  {
   "cell_type": "markdown",
   "metadata": {},
   "source": [
    "다음은 파이썬 클래스의 가장 간단한 예이다."
   ]
  },
  {
   "cell_type": "code",
   "execution_count": 9,
   "metadata": {},
   "outputs": [],
   "source": [
    "class Cookie:\n",
    "    pass"
   ]
  },
  {
   "cell_type": "markdown",
   "metadata": {},
   "source": [
    "위의 클래스는 아무런 기능도 갖고 있지 않은 껍질뿐인 클래스이다.  \n",
    "하지만 이렇게 껍질뿐인 클래스도 객체를 생성하는 기능을 가지고 있다.  \n",
    "\"과자 틀\"로 \"과자\"를 만드는 것처럼 말이다.  \n",
    "  \n",
    "객체는 클래스에 의해서 만들어지며 1개의 클래스는 무수히 많은 객체를 만들어낼 수 있다.  \n",
    "위에서 만든 Cookie클래스의 객체를 만드는 방법은 다음과 같다."
   ]
  },
  {
   "cell_type": "code",
   "execution_count": 10,
   "metadata": {},
   "outputs": [],
   "source": [
    "a = Cookie()\n",
    "b = Cookie()"
   ]
  },
  {
   "cell_type": "markdown",
   "metadata": {},
   "source": [
    "Co"
   ]
  },
  {
   "cell_type": "markdown",
   "metadata": {},
   "source": [
    "## What is self"
   ]
  },
  {
   "cell_type": "code",
   "execution_count": 1,
   "metadata": {},
   "outputs": [],
   "source": [
    "def setdata(self, first, second):   # ① 메서드의 매개변수\n",
    "    self.first = first              # ② 메서드의 수행문\n",
    "    self.second = second            # ② 메서드의 수행문"
   ]
  },
  {
   "cell_type": "markdown",
   "metadata": {},
   "source": [
    "매개변수 self는 특별한 의미를 가지고 있다.<br>\n",
    "```\n",
    ">>> a = FourCal()\n",
    ">>> a.setdata(4, 2)\n",
    "```"
   ]
  },
  {
   "cell_type": "markdown",
   "metadata": {},
   "source": [
    "위 에서 보는것 처럼 먼저 a라는 객체를 만들었다.<br>\n",
    "그리고 a라는 객체를 통해 setdata함수를 호출하였다.<br>\n",
    "그런데 뭔가 좀 이상하다.<br>\n",
    "setdata 메서드는 self, first, second라는 총 3개의 매개변수를 필요로 하는데 실제로는 a.setdata(4, 2) 처럼<br>\n",
    "4 와 2라는 두개의 값만 전달한 것이다.<br>"
   ]
  },
  {
   "cell_type": "markdown",
   "metadata": {},
   "source": [
    "왜 그럴까?<br>\n",
    "<br>\n",
    "그 이유는 a.setdata(4, 2)처럼 호출하면 <br>\n",
    "setdata 메서드의 첫 번째 매개변수 self에는 setdata메서드를 호출한 객체 a가 자동으로 전달되기 떄문이다.<br>\n",
    "<br>\n",
    "다음 그림을 보면 객체와 호출 입력 값들이 메서드에 어떻게 전달되는지 쉽게 이해가 갈것.<br>\n",
    "<br>\n",
    "![how to send self](https://wikidocs.net/images/page/12392/setdata.png)"
   ]
  },
  {
   "cell_type": "markdown",
   "metadata": {},
   "source": [
    "파이썬 클래스에서 가장 헷갈리는 부분이 바로 이 부분이다.<br>\n",
    "파이썬 메서드의 첫번째 매개변수명은 관례적으로 self라는 이름을 사용한다.<br>\n",
    "호출시 호풀한 객체 자신이 전달되기 때문에 self(\"self\"는 자기자신이라는 뜻을 가진 영어단어)<br>\n",
    "라는 이름을 사용하게 된 것이다. 물론 self말고 다른 이름을 사용해도 상관은 없다.<br>\n",
    "<br>\n",
    "(참고, 메서드의 첫번째 매개변수를 self를 명시적으로 구현해야 하는 것은 파이썬만의 독특한 특징이다.<br>\n",
    "예를 들어 자바 같은 언어는 첫번째 매개변수인 self가 필요없다.)"
   ]
  }
 ],
 "metadata": {
  "kernelspec": {
   "display_name": "Python 3",
   "language": "python",
   "name": "python3"
  },
  "language_info": {
   "codemirror_mode": {
    "name": "ipython",
    "version": 3
   },
   "file_extension": ".py",
   "mimetype": "text/x-python",
   "name": "python",
   "nbconvert_exporter": "python",
   "pygments_lexer": "ipython3",
   "version": "3.6.4"
  }
 },
 "nbformat": 4,
 "nbformat_minor": 2
}

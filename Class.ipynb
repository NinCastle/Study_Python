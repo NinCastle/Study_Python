{
 "cells": [
  {
   "cell_type": "markdown",
   "metadata": {},
   "source": [
    "# Class"
   ]
  },
  {
   "cell_type": "markdown",
   "metadata": {},
   "source": [
    "[점프 투 파이썬 - Class](https://wikidocs.net/28)<br>\n",
    "아래 내용은 상기 링크를 정리한 것"
   ]
  },
  {
   "cell_type": "markdown",
   "metadata": {},
   "source": [
    "## 클래스 존재의 이유"
   ]
  },
  {
   "cell_type": "markdown",
   "metadata": {},
   "source": [
    "단순한 계산기를 함수로 구현하면 아래와 같다."
   ]
  },
  {
   "cell_type": "code",
   "execution_count": 2,
   "metadata": {},
   "outputs": [
    {
     "name": "stdout",
     "output_type": "stream",
     "text": [
      "3\n",
      "7\n"
     ]
    }
   ],
   "source": [
    "result = 0\n",
    "\n",
    "def add(num):\n",
    "    global result\n",
    "    result += num\n",
    "    return result\n",
    "\n",
    "print(add(3))\n",
    "print(add(4))"
   ]
  },
  {
   "cell_type": "markdown",
   "metadata": {},
   "source": [
    "이전에 계산된 결과값을 유지하기 위해서 result라는 전역 변수(global)를 사용했다.  \n",
    "실행하면 예상한 대로 위와 같은 결과값이 출력된다."
   ]
  },
  {
   "cell_type": "markdown",
   "metadata": {},
   "source": [
    "그런데 만약 한 프로그램에서 2개의 계산기가 필요한 상황이 발생하면 어떻게 해야 할까?  \n",
    "각각의 계산기는 각각의 결과값을 유지해야 하기 때문에 위와 같이 add 함수 하나만으로는 결과 값을 따로 유지할 수 없다.  \n",
    "이런 상황을 해결하려면 다음과 같이 함수를 각각 따로 만들어야 한다.  "
   ]
  },
  {
   "cell_type": "code",
   "execution_count": 3,
   "metadata": {},
   "outputs": [
    {
     "name": "stdout",
     "output_type": "stream",
     "text": [
      "3\n",
      "7\n",
      "4\n",
      "9\n"
     ]
    }
   ],
   "source": [
    "result1 = 0\n",
    "result2 = 0\n",
    "\n",
    "def add1(num):\n",
    "    global result1\n",
    "    result1 += num\n",
    "    return result1\n",
    "\n",
    "def add2(num):\n",
    "    global result2\n",
    "    result2 += num\n",
    "    return result2\n",
    "\n",
    "print(add1(3))\n",
    "print(add1(4))\n",
    "print(add2(4))\n",
    "print(add2(5))"
   ]
  },
  {
   "cell_type": "markdown",
   "metadata": {},
   "source": [
    "똑같은 일을 하는 add1과 add2라는 함수가 생겼고, 각각의 함수에서 계산된 결과값을 유지하면서 저장하기 위한 전역변수 result1, result2가 필요하게 되었다.  "
   ]
  },
  {
   "cell_type": "markdown",
   "metadata": {},
   "source": [
    "따로 결과를 출력하기를 원했고 함수를 2개 생성한 결과 add1 값이 add2 값과 아무런 관계를 가지지못하는 것을 확인 했다.  \n",
    "그렇다면 더 많은 다른 출력값을 원한다면 여러개 만들어야 할까?  \n",
    "이제 클래스를 이용하여 이러한 문제를 처리한다."
   ]
  },
  {
   "cell_type": "markdown",
   "metadata": {},
   "source": [
    "클래스를 이용한 계산기"
   ]
  },
  {
   "cell_type": "code",
   "execution_count": 5,
   "metadata": {},
   "outputs": [
    {
     "name": "stdout",
     "output_type": "stream",
     "text": [
      "3\n",
      "7\n",
      "4\n",
      "9\n"
     ]
    }
   ],
   "source": [
    "class Calculator:\n",
    "    def __init__(self):\n",
    "        self.result = 0\n",
    "    def add(self, num):\n",
    "        self.result += num\n",
    "        return self.result\n",
    "    \n",
    "cal1 = Calculator()\n",
    "cal2 = Calculator()\n",
    "\n",
    "print(cal1.add(3))\n",
    "print(cal1.add(4))\n",
    "print(cal2.add(4))\n",
    "print(cal2.add(5))"
   ]
  },
  {
   "cell_type": "markdown",
   "metadata": {},
   "source": [
    "두개의 함수를 실행 했을때와 동일한 결과가 나타난다."
   ]
  },
  {
   "cell_type": "markdown",
   "metadata": {},
   "source": [
    "Calculator 클래스로 만들어진 cal1, cal2라는 별개의 계산기(객체)가 각각의 역활을 수행한다.  \n",
    "그리고 계산기(cal1, cal2)의 결과값 역시 다른 계산기의 결과값과 상관없이 독립적인 결과값을 유지한다.  \n",
    "클래스를 이용하면 계산기의 개수가 늘어나더라도 객체를 생성하기만 하면 되기 때문에 함수를 사용하는 경와 달리 매우 간단해진다.  "
   ]
  },
  {
   "cell_type": "markdown",
   "metadata": {},
   "source": [
    "만약 빼기 기능이 더해진다고 해도 Calculator 클래스에 다음과 같은 빼기 기능 함수를 추가해주면된다."
   ]
  },
  {
   "cell_type": "code",
   "execution_count": 7,
   "metadata": {
    "collapsed": true
   },
   "outputs": [],
   "source": [
    "class calculator2:\n",
    "    def __init__(self):\n",
    "        self.num = 0\n",
    "    def add(self, num):\n",
    "        self.result += num\n",
    "        return self.result\n",
    "    def sub(self, num):\n",
    "        self.result -= num\n",
    "        return self.result"
   ]
  },
  {
   "cell_type": "markdown",
   "metadata": {},
   "source": [
    "위 기능만으로 클래스는 왜 필요한 것인지에 대한 근본적인 궁금증이 해결 될것이다."
   ]
  },
  {
   "cell_type": "markdown",
   "metadata": {},
   "source": [
    "## 클래스와 객체"
   ]
  },
  {
   "cell_type": "markdown",
   "metadata": {},
   "source": [
    "클래스를 가장 잘 설명해주는 다음의 사진을 본다. <br>\n",
    "<br>\n",
    "![](http://wikidocs.net/images/page/214/c1.png)<br>\n",
    "<br>\n",
    "과자를 만드는 과자틀과 만들어진 과자들이다.<br>\n",
    "<br>\n",
    "* 과자틀 $\\rightarrow$ 클래스(class)\n",
    "* 과자틀에 의해서 만들어진 과자들 $\\rightarrow$ 객체(object)"
   ]
  },
  {
   "cell_type": "markdown",
   "metadata": {},
   "source": [
    "클래스(class)란 똑같은 무엇인가를 계속해서 만들어낼 수 있게 설계 도면과 같은것이고(과자 틀),  \n",
    "객체(object)란 클래스에 의해서 만들어진 생성물(과자틀에 의해서 만들어진 과자)이다."
   ]
  },
  {
   "cell_type": "markdown",
   "metadata": {},
   "source": [
    "클래스에 의해서 만들어진 객체에는 중요한 특징이 있다.  \n",
    "그것은 객체별로 독립적인 성격을 갖는다는 것이다.  \n",
    "과자틀에 의해서 만들어진 과자에 구멍을 뚫거나 조금 베어 먹더라도 다른 과자들에는 아무런 영향이 없는 것과 마찬가지로 동일한 클래스에 의해 생성된 객체들은 서로에게 전혀 영향을 주지 않는다."
   ]
  },
  {
   "cell_type": "markdown",
   "metadata": {},
   "source": [
    "다음은 파이썬 클래스의 가장 간단한 예이다."
   ]
  },
  {
   "cell_type": "code",
   "execution_count": 9,
   "metadata": {
    "collapsed": true
   },
   "outputs": [],
   "source": [
    "class Cookie:\n",
    "    pass"
   ]
  },
  {
   "cell_type": "markdown",
   "metadata": {},
   "source": [
    "위의 클래스는 아무런 기능도 갖고 있지 않은 껍질뿐인 클래스이다.  \n",
    "하지만 이렇게 껍질뿐인 클래스도 객체를 생성하는 기능을 가지고 있다.  \n",
    "\"과자 틀\"로 \"과자\"를 만드는 것처럼 말이다.  \n",
    "  \n",
    "객체는 클래스에 의해서 만들어지며 1개의 클래스는 무수히 많은 객체를 만들어낼 수 있다.  \n",
    "위에서 만든 Cookie클래스의 객체를 만드는 방법은 다음과 같다."
   ]
  },
  {
   "cell_type": "code",
   "execution_count": 10,
   "metadata": {
    "collapsed": true
   },
   "outputs": [],
   "source": [
    "a = Cookie()\n",
    "b = Cookie()"
   ]
  },
  {
   "cell_type": "markdown",
   "metadata": {},
   "source": [
    "Cookie()의 결과값을 돌려받은 a와 b가 바로 객체이다.  \n",
    "마치 함수를 사용해서 그 결과값을 돌려 받는 모습과 비슷하다."
   ]
  },
  {
   "cell_type": "markdown",
   "metadata": {},
   "source": [
    "[객체와 인스턴스의 차이]  <br>\n",
    "<br>\n",
    "  \n",
    "클래스에 의해서 만들어진 객체를 인스턴스라고도한다.  \n",
    "그렇다면 객체와 인스턴스의 차이는 무엇일까?  \n",
    "이렇게 생각해본다.  \n",
    "* a = Cookie() 로 만들어진 객체 a는 Cookie의 인스턴스이다.  \n",
    "* 즉, 인스턴스라는 말은 특정 객체(a)가 어떤 클래스(Cookie)의 객체인지를 관계 위주로 설명할 때 사용된다.  \n",
    "* 즉, \"a는 인스턴스\"보다는 \"a는 객체\"라는 표현이 어울리며,  \n",
    "\"a는 Cookie의 객체\"보다는 \"a는 Cookie의 인스턴스\"라는 표현이 훨씬 잘 어울린다."
   ]
  },
  {
   "cell_type": "markdown",
   "metadata": {},
   "source": [
    "## 사칙연산 클래스 만들기\n",
    "### 클래스를 어떻게 만들지 먼저 구상하기\n",
    "클래스는 무작정 만들기 보다는 클래스에 의해서 만들어진 객체를 중심으로 어떤 식으로 동작하게 할 것인지 미리 구상을 한 후에 생각했던 것들을 하나씩 해결하면서 완성해 가는것이 좋다.<br>\n",
    "<br>\n",
    "사칙연산을 가능하게 하는것은 FourCal이라는 클래스가 아래와 같이 동작한다는 가정을 한다.<br>\n",
    "<br>\n",
    "먼저 a = FourCal()처럼 입력해서 a라는 객체를 만든다."
   ]
  },
  {
   "cell_type": "markdown",
   "metadata": {},
   "source": [
    "```python\n",
    "a = FourCal()\n",
    "```"
   ]
  },
  {
   "cell_type": "markdown",
   "metadata": {},
   "source": [
    "그런 다음 a.setdata(4, 2)처럼 입력해서 4와 2라는 숫자를 객체 a에 지정해 주고"
   ]
  },
  {
   "cell_type": "markdown",
   "metadata": {},
   "source": [
    "```\n",
    "a = setdata(4, 2)\n",
    "```"
   ]
  },
  {
   "cell_type": "markdown",
   "metadata": {},
   "source": [
    "a.sum()을 수행하면 두 수를 합한 결과 (4 + 2)를 돌려주고"
   ]
  },
  {
   "cell_type": "markdown",
   "metadata": {},
   "source": [
    "```\n",
    "a.sum()\n",
    "```"
   ]
  },
  {
   "cell_type": "markdown",
   "metadata": {},
   "source": [
    "a.mul()을 수행하면 두 수를 곱한 결과 (4 * 2)를 돌려주고"
   ]
  },
  {
   "cell_type": "markdown",
   "metadata": {},
   "source": [
    "```\n",
    "a,mul()\n",
    "```"
   ]
  },
  {
   "cell_type": "markdown",
   "metadata": {},
   "source": [
    "a.sub()를 수행하면 두 수를 뺀 결과 (4-2)를 돌려주고\n",
    "```\n",
    "a.sub()\n",
    "```"
   ]
  },
  {
   "cell_type": "markdown",
   "metadata": {},
   "source": [
    "a.div()를 수행하면 두수를 나눈결과 (4 / 2)를 돌려준다.\n",
    "```\n",
    "a.div()\n",
    "```"
   ]
  },
  {
   "cell_type": "markdown",
   "metadata": {},
   "source": [
    "이렇게 동작하는 FourCal 클래스를 만드는 것이 목표이다."
   ]
  },
  {
   "cell_type": "markdown",
   "metadata": {},
   "source": [
    "## 클래스 구조 만들기"
   ]
  },
  {
   "cell_type": "code",
   "execution_count": 1,
   "metadata": {},
   "outputs": [],
   "source": [
    "class FourCal:\n",
    "    pass"
   ]
  },
  {
   "cell_type": "markdown",
   "metadata": {},
   "source": [
    "대화형 인터프리터에서 pass란 문장만을 포함한 FourCal클래스를 만든다.  \n",
    "현재 상태에서 FourCal클래스는 아무런 변수나 메서드도 포함하지 않지만 원하는 객체를 만들 수 있는 기능은 가지고 있다."
   ]
  },
  {
   "cell_type": "code",
   "execution_count": 2,
   "metadata": {},
   "outputs": [
    {
     "data": {
      "text/plain": [
       "__main__.FourCal"
      ]
     },
     "execution_count": 2,
     "metadata": {},
     "output_type": "execute_result"
    }
   ],
   "source": [
    "a = FourCal()\n",
    "type(a)"
   ]
  },
  {
   "cell_type": "markdown",
   "metadata": {},
   "source": [
    "위와 같이 a = FourCal()로 a라는 객체를 먼저 만들고 그 다음에 type(a)로 객체타입을 확인했다.  "
   ]
  },
  {
   "cell_type": "markdown",
   "metadata": {},
   "source": [
    "## 객체에 숫자 지정할 수 있게 만들기\n",
    "```python \n",
    "a.setdata(4, 2)\n",
    "```\n",
    "위의 문장이 수행되려면 다음과 같이 소스코드를 작성해야한다."
   ]
  },
  {
   "cell_type": "code",
   "execution_count": 3,
   "metadata": {},
   "outputs": [],
   "source": [
    "class FourCal2:\n",
    "    def setdata(self, first, second):\n",
    "        self.first = first\n",
    "        self.second = second"
   ]
  },
  {
   "cell_type": "markdown",
   "metadata": {},
   "source": [
    "이전에 만들었던 FourCal 클래스에서 pass라는 문장을 삭제하고 class 내부에 setdata라는 함수를 생성하였다.  \n",
    "클래스 안에 구현된 함수는 다른말로 메서드(Method)라고 부른다.  \n",
    "```python\n",
    "def 함수명(매개변수):\n",
    "    수행할 문장\n",
    "```\n",
    "메서드도 클래스에 포함되어 있다는 점만 제외하면 일반함수와 같다."
   ]
  },
  {
   "cell_type": "markdown",
   "metadata": {},
   "source": [
    "setdata 메서드를 다시보면 아래와 같다."
   ]
  },
  {
   "cell_type": "code",
   "execution_count": 6,
   "metadata": {},
   "outputs": [],
   "source": [
    "def setdata(self, first, sencond): # 1. 메서드의 매개변수\n",
    "    self.first = first             # 2. 메서드의 수행문\n",
    "    self.second = second           # 3. 메서드의 수행문"
   ]
  },
  {
   "cell_type": "markdown",
   "metadata": {},
   "source": [
    "**1. setdata 메서드의 매개변수**  <br>\n",
    "<br>\n",
    "setdata 메서드는 매개변수로 self, first, second라는 3개의 입력값을 받는다.  \n",
    "그런데 일반적인 함수와는 달리 메서드의 첫 번째 매개변수 self는 특별한 의미를 가진다."
   ]
  },
  {
   "cell_type": "markdown",
   "metadata": {},
   "source": [
    "```python\n",
    "a = FourCal()\n",
    "a.setdata(4, 2)\n",
    "```"
   ]
  },
  {
   "cell_type": "markdown",
   "metadata": {},
   "source": [
    "위 에서 보는것 처럼 먼저 a라는 객체를 만들었다.<br>\n",
    "그리고 a라는 객체를 통해 setdata함수를 호출하였다.<br>\n",
    "그런데 뭔가 좀 이상하다.<br>\n",
    "setdata 메서드는 self, first, second라는 총 3개의 매개변수를 필요로 하는데 실제로는 a.setdata(4, 2) 처럼<br>\n",
    "4 와 2라는 두개의 값만 전달한 것이다.<br>"
   ]
  },
  {
   "cell_type": "markdown",
   "metadata": {},
   "source": [
    "왜 그럴까?<br>\n",
    "<br>\n",
    "그 이유는 a.setdata(4, 2)처럼 호출하면 <br>\n",
    "setdata 메서드의 첫 번째 매개변수 self에는 setdata메서드를 호출한 객체 a가 자동으로 전달되기 떄문이다.<br>\n",
    "<br>\n",
    "다음 그림을 보면 객체와 호출 입력 값들이 메서드에 어떻게 전달되는지 쉽게 이해가 갈것.<br>\n",
    "<br>\n",
    "![how to send self](https://wikidocs.net/images/page/12392/setdata.png)"
   ]
  },
  {
   "cell_type": "markdown",
   "metadata": {},
   "source": [
    "파이썬 클래스에서 가장 헷갈리는 부분이 바로 이 부분이다.<br>\n",
    "파이썬 메서드의 첫번째 매개변수명은 관례적으로 self라는 이름을 사용한다.<br>\n",
    "호출시 호풀한 객체 자신이 전달되기 때문에 self(\"self\"는 자기자신이라는 뜻을 가진 영어단어)<br>\n",
    "라는 이름을 사용하게 된 것이다. 물론 self말고 다른 이름을 사용해도 상관은 없다.<br>\n",
    "<br>\n",
    "(참고, 메서드의 첫번째 매개변수를 self를 명시적으로 구현해야 하는 것은 파이썬만의 독특한 특징이다.<br>\n",
    "예를 들어 자바 같은 언어는 첫번째 매개변수인 self가 필요없다.)"
   ]
  },
  {
   "cell_type": "markdown",
   "metadata": {},
   "source": [
    "```\n",
    "메서드의 첫번재 매개변수를 self를 명시적으로 구현해야 하는 것은 파이썬만의 독특한 특징이다.  \n",
    "예를 들어 자바같은 언어는 첫번재 매개변수인 self가 필요없다.\n",
    "```"
   ]
  },
  {
   "cell_type": "markdown",
   "metadata": {},
   "source": [
    "> [메서드의 또 다른 호출 방법]  \n",
    "잘 사용하지는 않지만 다음과 같이 메서드를 호출하는 것도 가능하다.  \n",
    "```python\n",
    "a = FourCal()\n",
    "FourCal.setdata(a, 4, 2)\n",
    "```\n",
    "위와 같이 \"클래스명.메서드\" 형태로 호출할 때는 객체 a를 입력 인수로 꼭 넣어 주어야한다.  \n",
    "반면에 다음처럼 \"객체. 메서드\" 형태로 호출할 때는 객체 a(첫 번째 입력 인수(self))를 반드시 생략해야한다.\n",
    "```python\n",
    "a = FourCal()\n",
    "a.setdata(4, 2)\n",
    "```"
   ]
  },
  {
   "cell_type": "markdown",
   "metadata": {},
   "source": [
    "그 다음으로 중요한 사항을 살펴본다.  <br>\n",
    "<br>\n",
    "**2. setdata 메서드의 수행문**<br>\n",
    "<br>\n",
    "setdata 메서드에는 수행할 문장이 2개 있다.  \n",
    "```python\n",
    "self.first = first\n",
    "self.second = second\n",
    "```\n",
    "위 수행문이 뜻하는 바는 아래와 같다.  \n",
    "```python\n",
    "self.first = 4\n",
    "self.second = 2\n",
    "```\n",
    "여기서 중요한것은 self이다.  \n",
    "self는 `a.setdata(4, 2)` 처럼 호출했을 때 자동으로 들어오는 객체 a라고 했다.  \n",
    "그렇다면 self.first의 의미는 무엇인가?  \n",
    "a.first의 의미가 될것이다.  \n",
    "a.second 또한 두번째 객체가 될것이다.  <br>\n",
    "<br>\n",
    "따라서 위의 두 문장을 풀어서 쓰면 다음과 같이 된다.  \n",
    "```python\n",
    "a.first = 4\n",
    "a.second = 2\n",
    "```\n",
    "위와 같이 바뀐 문장이 실행되어 결국 a객체에는 first와 second라는 객체변수가 생성된다.  <br>\n",
    "<br>\n",
    "  "
   ]
  },
  {
   "cell_type": "markdown",
   "metadata": {},
   "source": [
    "객체 변수는 다음과 같다.\n",
    "```python\n",
    "객체.객체변수 = 값\n",
    "```\n",
    "(예: a.first = 4)"
   ]
  },
  {
   "cell_type": "markdown",
   "metadata": {},
   "source": [
    "객체변수(instance variable)는 객체에 정의된 변수를 의미하며 객체간 서로 공유되지 않는 특징을 갖는다. \n",
    "> 객체변수는 속성, 맴버변수 또는 인스턴스 변수라고도 표현한다.  \n",
    "  \n",
    "정말로 객체변수가 생성되었는지 확인한다.  "
   ]
  },
  {
   "cell_type": "code",
   "execution_count": 9,
   "metadata": {},
   "outputs": [
    {
     "name": "stdout",
     "output_type": "stream",
     "text": [
      "4\n",
      "2\n"
     ]
    }
   ],
   "source": [
    "a = FourCal2()\n",
    "a.setdata(4, 2)\n",
    "print(a.first)\n",
    "print(a.second)"
   ]
  },
  {
   "cell_type": "markdown",
   "metadata": {},
   "source": [
    "a객체에 객체변수 first와 second가 생성되었음을 확인이 된다.  \n",
    "이번에는 b라는 객체를 하나 더 만든다.  "
   ]
  },
  {
   "cell_type": "code",
   "execution_count": 10,
   "metadata": {},
   "outputs": [
    {
     "name": "stdout",
     "output_type": "stream",
     "text": [
      "3\n",
      "4\n"
     ]
    }
   ],
   "source": [
    "b = FourCal2()\n",
    "b.setdata(3, 7)\n",
    "print(b.first)\n",
    "print(a.first)"
   ]
  },
  {
   "cell_type": "markdown",
   "metadata": {},
   "source": [
    "a와 b라는 객체는 모두 frist라는 인스턴스변수를 가지고 있지만 그 변수의 값은 각각 다르다.  \n",
    "* b 객체의 first변수에 3이라는 값을 대입하더라도,\n",
    "* a 객체의 first값이 3으로 변경되지는 않는다.  \n",
    "a, b 객체의 first변수는 고유의 저장 영역을 가지고 있는 객체 변수이기 떄문이다.  \n",
    "  \n",
    "객체 변수(예: a.first)는 그 객체의 고유한 값을 저장할 수 있는 공간이다.  \n",
    "객체 변수는 다른 객체들에 의해 영향 받지 않고 독립적으로 그 값을 유지한다는 점을 꼭 기억한다.  \n",
    "클래스에서는 이 부분이 가장 중요!!"
   ]
  },
  {
   "cell_type": "markdown",
   "metadata": {},
   "source": [
    "다음은 현재까지 완성된 FourCal클래스이다."
   ]
  },
  {
   "cell_type": "code",
   "execution_count": 11,
   "metadata": {},
   "outputs": [],
   "source": [
    "class FourCal3():\n",
    "    def setdata(self, first, second):\n",
    "        self.first = first\n",
    "        self.second = second"
   ]
  },
  {
   "cell_type": "markdown",
   "metadata": {},
   "source": [
    "지금까지 살펴본 내용이 바로 위의 4줄을 설명하기 위한것이다.  "
   ]
  },
  {
   "cell_type": "markdown",
   "metadata": {},
   "source": [
    "## 더하기 기능 만들기\n",
    "변수를 이용하여 숫자값을 클래스 안에 설정했으니 변수 값을 이용하는 기능을 추가한다.  \n",
    "더하기 기능을 갖춘 클래스를 만든다.  "
   ]
  },
  {
   "cell_type": "code",
   "execution_count": 13,
   "metadata": {},
   "outputs": [],
   "source": [
    "class FourCal4():\n",
    "    def setdata(self, first, second):\n",
    "        self.first = first\n",
    "        self.second = second\n",
    "    def add(self):\n",
    "        result = self.first + self.second\n",
    "        return result"
   ]
  },
  {
   "cell_type": "code",
   "execution_count": 15,
   "metadata": {},
   "outputs": [],
   "source": [
    "a = FourCal4()\n",
    "a.setdata(4,2)"
   ]
  },
  {
   "cell_type": "markdown",
   "metadata": {},
   "source": [
    "새롭게 추가한 것은 add 매서드 이다.\n",
    "위와 같이 호출하면 앞서 살펴보았듯이 a객체의 first, second 객체변수에는 각각 4와 2라는 값이 저장될 것이다.  "
   ]
  },
  {
   "cell_type": "markdown",
   "metadata": {},
   "source": [
    "이제 add메서드를 호출해 본다.  "
   ]
  },
  {
   "cell_type": "code",
   "execution_count": 16,
   "metadata": {},
   "outputs": [
    {
     "name": "stdout",
     "output_type": "stream",
     "text": [
      "6\n"
     ]
    }
   ],
   "source": [
    "print(a.add())"
   ]
  },
  {
   "cell_type": "markdown",
   "metadata": {},
   "source": [
    "a.add()라고 호출하면 add메서드가 호출 될 것이다.  \n",
    "이번에는 add메서드를 따로 떼어 내서 자세히 본다.  "
   ]
  },
  {
   "cell_type": "code",
   "execution_count": 17,
   "metadata": {},
   "outputs": [],
   "source": [
    "def add(self):\n",
    "    result = self.first + self.second\n",
    "    return result"
   ]
  },
  {
   "cell_type": "markdown",
   "metadata": {},
   "source": [
    "add  메서드의 매개 변수는 self이고 리턴값은 result이다.  \n",
    "리턴 값인 result가 계산하는 부분은 아래와 같다."
   ]
  },
  {
   "cell_type": "markdown",
   "metadata": {},
   "source": [
    "```python\n",
    "result = self.first + self.second\n",
    "```"
   ]
  },
  {
   "cell_type": "markdown",
   "metadata": {},
   "source": [
    "`a.add()`와 같이 a 객체에 의해 add 매서드가 수행되면 add 메서드의 self에는 객체 a가 자동으로 입력되므로 위의 내용은 아래와 같이 해석된다.   "
   ]
  },
  {
   "cell_type": "markdown",
   "metadata": {},
   "source": [
    "```python \n",
    "result = a.first + a.second\n",
    "```  "
   ]
  },
  {
   "cell_type": "markdown",
   "metadata": {},
   "source": [
    "위의 내용은 `a.add()`메소드 호출전에 `a.setdata(4, 2)`가 먼저 호출되어 a.first = 4, a.second = 2라고 이미 설정되었기 때문에 다시 다음과 같이 해석된다."
   ]
  },
  {
   "cell_type": "markdown",
   "metadata": {},
   "source": [
    "```python\n",
    "result = 4 + 2\n",
    "```"
   ]
  },
  {
   "cell_type": "markdown",
   "metadata": {},
   "source": [
    "따라서 다음과 같이 a.add()라고 호출하면 6이 리턴된다."
   ]
  },
  {
   "cell_type": "code",
   "execution_count": 19,
   "metadata": {},
   "outputs": [
    {
     "data": {
      "text/plain": [
       "6"
      ]
     },
     "execution_count": 19,
     "metadata": {},
     "output_type": "execute_result"
    }
   ],
   "source": [
    "a.add()"
   ]
  },
  {
   "cell_type": "markdown",
   "metadata": {},
   "source": [
    "여기까지 이해 했다면 파이썬의 클래스는 그다지 어렵지 않다.  "
   ]
  },
  {
   "cell_type": "markdown",
   "metadata": {},
   "source": [
    "## 곱하기, 빼기, 나누기 기능 만들기"
   ]
  },
  {
   "cell_type": "markdown",
   "metadata": {},
   "source": [
    "곱하기, 빼기, 나누기 기능을 더한다."
   ]
  },
  {
   "cell_type": "code",
   "execution_count": 16,
   "metadata": {},
   "outputs": [],
   "source": [
    "class FourCal5:\n",
    "    def setdata(self, first, second):\n",
    "        self.first = first\n",
    "        self.second = second\n",
    "    def add(self):\n",
    "        result = self.first + self.second\n",
    "        return result\n",
    "    def mul(self):\n",
    "        result = self.first * self.second\n",
    "        return result\n",
    "    def sub(self):\n",
    "        result = self.first - self.second\n",
    "        return result\n",
    "    def div(self):\n",
    "        result = self.first / self.second\n",
    "        return result   "
   ]
  },
  {
   "cell_type": "markdown",
   "metadata": {},
   "source": [
    "mul, sub, add, div메서드 확인하기"
   ]
  },
  {
   "cell_type": "code",
   "execution_count": 17,
   "metadata": {},
   "outputs": [],
   "source": [
    "a = FourCal5()\n",
    "b = FourCal5()"
   ]
  },
  {
   "cell_type": "code",
   "execution_count": 18,
   "metadata": {},
   "outputs": [],
   "source": [
    "a.setdata(1, 2)"
   ]
  },
  {
   "cell_type": "code",
   "execution_count": 19,
   "metadata": {},
   "outputs": [],
   "source": [
    "b.setdata(2, 4)"
   ]
  },
  {
   "cell_type": "code",
   "execution_count": 20,
   "metadata": {},
   "outputs": [
    {
     "data": {
      "text/plain": [
       "3"
      ]
     },
     "execution_count": 20,
     "metadata": {},
     "output_type": "execute_result"
    }
   ],
   "source": [
    "a.add()"
   ]
  },
  {
   "cell_type": "code",
   "execution_count": 21,
   "metadata": {},
   "outputs": [
    {
     "data": {
      "text/plain": [
       "-1"
      ]
     },
     "execution_count": 21,
     "metadata": {},
     "output_type": "execute_result"
    }
   ],
   "source": [
    "a.sub()"
   ]
  },
  {
   "cell_type": "code",
   "execution_count": 22,
   "metadata": {},
   "outputs": [
    {
     "data": {
      "text/plain": [
       "2"
      ]
     },
     "execution_count": 22,
     "metadata": {},
     "output_type": "execute_result"
    }
   ],
   "source": [
    "a.mul()"
   ]
  },
  {
   "cell_type": "code",
   "execution_count": 23,
   "metadata": {},
   "outputs": [
    {
     "data": {
      "text/plain": [
       "0.5"
      ]
     },
     "execution_count": 23,
     "metadata": {},
     "output_type": "execute_result"
    }
   ],
   "source": [
    "a.div()"
   ]
  },
  {
   "cell_type": "code",
   "execution_count": 24,
   "metadata": {},
   "outputs": [
    {
     "data": {
      "text/plain": [
       "6"
      ]
     },
     "execution_count": 24,
     "metadata": {},
     "output_type": "execute_result"
    }
   ],
   "source": [
    "b.add()"
   ]
  },
  {
   "cell_type": "code",
   "execution_count": 25,
   "metadata": {},
   "outputs": [
    {
     "data": {
      "text/plain": [
       "-2"
      ]
     },
     "execution_count": 25,
     "metadata": {},
     "output_type": "execute_result"
    }
   ],
   "source": [
    "b.sub()"
   ]
  },
  {
   "cell_type": "code",
   "execution_count": 26,
   "metadata": {},
   "outputs": [
    {
     "data": {
      "text/plain": [
       "0.5"
      ]
     },
     "execution_count": 26,
     "metadata": {},
     "output_type": "execute_result"
    }
   ],
   "source": [
    "b.div()"
   ]
  },
  {
   "cell_type": "code",
   "execution_count": 27,
   "metadata": {},
   "outputs": [
    {
     "data": {
      "text/plain": [
       "8"
      ]
     },
     "execution_count": 27,
     "metadata": {},
     "output_type": "execute_result"
    }
   ],
   "source": [
    "b.mul()"
   ]
  },
  {
   "cell_type": "markdown",
   "metadata": {},
   "source": [
    "사칙연산 기능 완성"
   ]
  },
  {
   "cell_type": "markdown",
   "metadata": {},
   "source": [
    "## 생성자(Constructor)"
   ]
  },
  {
   "cell_type": "markdown",
   "metadata": {},
   "source": [
    "이번에는 우리가 만든 FourCal 클래스를 다음과 같이 사용해 본다."
   ]
  },
  {
   "cell_type": "code",
   "execution_count": 28,
   "metadata": {},
   "outputs": [],
   "source": [
    "a = FourCal5()"
   ]
  },
  {
   "cell_type": "code",
   "execution_count": 29,
   "metadata": {},
   "outputs": [
    {
     "ename": "AttributeError",
     "evalue": "'FourCal5' object has no attribute 'first'",
     "output_type": "error",
     "traceback": [
      "\u001b[1;31m---------------------------------------------------------------------------\u001b[0m",
      "\u001b[1;31mAttributeError\u001b[0m                            Traceback (most recent call last)",
      "\u001b[1;32m<ipython-input-29-fddc01c87ea9>\u001b[0m in \u001b[0;36m<module>\u001b[1;34m()\u001b[0m\n\u001b[1;32m----> 1\u001b[1;33m \u001b[0ma\u001b[0m\u001b[1;33m.\u001b[0m\u001b[0madd\u001b[0m\u001b[1;33m(\u001b[0m\u001b[1;33m)\u001b[0m\u001b[1;33m\u001b[0m\u001b[0m\n\u001b[0m",
      "\u001b[1;32m<ipython-input-16-68c020e66831>\u001b[0m in \u001b[0;36madd\u001b[1;34m(self)\u001b[0m\n\u001b[0;32m      4\u001b[0m         \u001b[0mself\u001b[0m\u001b[1;33m.\u001b[0m\u001b[0msecond\u001b[0m \u001b[1;33m=\u001b[0m \u001b[0msecond\u001b[0m\u001b[1;33m\u001b[0m\u001b[0m\n\u001b[0;32m      5\u001b[0m     \u001b[1;32mdef\u001b[0m \u001b[0madd\u001b[0m\u001b[1;33m(\u001b[0m\u001b[0mself\u001b[0m\u001b[1;33m)\u001b[0m\u001b[1;33m:\u001b[0m\u001b[1;33m\u001b[0m\u001b[0m\n\u001b[1;32m----> 6\u001b[1;33m         \u001b[0mresult\u001b[0m \u001b[1;33m=\u001b[0m \u001b[0mself\u001b[0m\u001b[1;33m.\u001b[0m\u001b[0mfirst\u001b[0m \u001b[1;33m+\u001b[0m \u001b[0mself\u001b[0m\u001b[1;33m.\u001b[0m\u001b[0msecond\u001b[0m\u001b[1;33m\u001b[0m\u001b[0m\n\u001b[0m\u001b[0;32m      7\u001b[0m         \u001b[1;32mreturn\u001b[0m \u001b[0mresult\u001b[0m\u001b[1;33m\u001b[0m\u001b[0m\n\u001b[0;32m      8\u001b[0m     \u001b[1;32mdef\u001b[0m \u001b[0mmul\u001b[0m\u001b[1;33m(\u001b[0m\u001b[0mself\u001b[0m\u001b[1;33m)\u001b[0m\u001b[1;33m:\u001b[0m\u001b[1;33m\u001b[0m\u001b[0m\n",
      "\u001b[1;31mAttributeError\u001b[0m: 'FourCal5' object has no attribute 'first'"
     ]
    }
   ],
   "source": [
    "a.add()"
   ]
  },
  {
   "cell_type": "markdown",
   "metadata": {},
   "source": [
    "FourCal5 클래스의 인스턴스 a에 setdata메서드를 수행하지 않고 sum메서드를 수행하면 \"AttributeError: 'FourCal5' object hav no attribute 'first'\"라는 오류 메시지가 발생한다.  \n",
    "setdata 메서드를 수행해야 객체 a의 객체변수 first와 second가 생성이 되기 때문이다.  <br>\n",
    "<br>\n",
    "이렇게 객체에 초기값을 설정해야 할 필요가 있을 때는 setdata와 같은 메서드를 호출하여 초기값을 설정하기 보다는 생성자를 구현하는 것이 안전한 방법이다.  <br>\n",
    "<br>\n",
    "생성자(Constructor)란 객체가 생성될 때 자동으로 호출되는 메서드를 의미한다.  <br>\n",
    "<br>\n",
    "파이썬 메서드 명으로 `__init__`를 사용하면 이 메서드는 생성자가 된다.  \n",
    "> `__init__` 멧또드의 init앞 뒤로 붙은 `__`는 언더스코어(`_`)두개를 붙여서 사용해야 한다."
   ]
  },
  {
   "cell_type": "code",
   "execution_count": 39,
   "metadata": {},
   "outputs": [],
   "source": [
    "class FourCal6:\n",
    "    def __init__ (self, first, second):\n",
    "        self.first = first\n",
    "        self.second = second\n",
    "    def add(self):\n",
    "        result = self.first + self.second\n",
    "        return result"
   ]
  },
  {
   "cell_type": "markdown",
   "metadata": {},
   "source": [
    "추가된 `__init__`을 살펴보면 setdata method와 이름만 다르고 모든게 동일하다.  \n",
    "단, method이름을 `__init__`으로 하였기 떄문에 생성자로 인식되어 객체가 생성되는 시점에 자동으로 호출되는 차이가 있다."
   ]
  },
  {
   "cell_type": "code",
   "execution_count": 40,
   "metadata": {},
   "outputs": [
    {
     "ename": "TypeError",
     "evalue": "__init__() missing 2 required positional arguments: 'first' and 'second'",
     "output_type": "error",
     "traceback": [
      "\u001b[1;31m---------------------------------------------------------------------------\u001b[0m",
      "\u001b[1;31mTypeError\u001b[0m                                 Traceback (most recent call last)",
      "\u001b[1;32m<ipython-input-40-ef8dc97ae2a9>\u001b[0m in \u001b[0;36m<module>\u001b[1;34m()\u001b[0m\n\u001b[1;32m----> 1\u001b[1;33m \u001b[0ma\u001b[0m \u001b[1;33m=\u001b[0m \u001b[0mFourCal6\u001b[0m\u001b[1;33m(\u001b[0m\u001b[1;33m)\u001b[0m\u001b[1;33m\u001b[0m\u001b[0m\n\u001b[0m",
      "\u001b[1;31mTypeError\u001b[0m: __init__() missing 2 required positional arguments: 'first' and 'second'"
     ]
    }
   ],
   "source": [
    "a = FourCal6()"
   ]
  },
  {
   "cell_type": "markdown",
   "metadata": {},
   "source": [
    "위와 같은 오류가 발생한 이유는 생성자의 매개변수인 first와 second에 해당되는 값이 없기 때문이다.  <br>\n",
    "<br>\n",
    "위 오류를 해결하려면 아래처럼 해당값을 삽입하면된다.  "
   ]
  },
  {
   "cell_type": "code",
   "execution_count": 41,
   "metadata": {},
   "outputs": [],
   "source": [
    "a = FourCal6(5, 6)"
   ]
  },
  {
   "cell_type": "markdown",
   "metadata": {},
   "source": [
    "위와 같이 수행하면 `__init__` method의 매개변수에는 각각 다음과 같은 값들이 대입된다.\n",
    "  \n",
    "|매개변수|값|\n",
    "|---|---|\n",
    "|self|생성되는 객체|\n",
    "|first|5|\n",
    "|second|6|  \n",
    "\n",
    "값 확인해보기"
   ]
  },
  {
   "cell_type": "code",
   "execution_count": 42,
   "metadata": {},
   "outputs": [
    {
     "name": "stdout",
     "output_type": "stream",
     "text": [
      "5\n"
     ]
    }
   ],
   "source": [
    "print(a.first)"
   ]
  },
  {
   "cell_type": "code",
   "execution_count": 43,
   "metadata": {},
   "outputs": [
    {
     "name": "stdout",
     "output_type": "stream",
     "text": [
      "6\n"
     ]
    }
   ],
   "source": [
    "print(a.second)"
   ]
  },
  {
   "cell_type": "code",
   "execution_count": 44,
   "metadata": {},
   "outputs": [
    {
     "data": {
      "text/plain": [
       "11"
      ]
     },
     "execution_count": 44,
     "metadata": {},
     "output_type": "execute_result"
    }
   ],
   "source": [
    "a.add()"
   ]
  }
 ],
 "metadata": {
  "kernelspec": {
   "display_name": "Python 3",
   "language": "python",
   "name": "python3"
  },
  "language_info": {
   "codemirror_mode": {
    "name": "ipython",
    "version": 3
   },
   "file_extension": ".py",
   "mimetype": "text/x-python",
   "name": "python",
   "nbconvert_exporter": "python",
   "pygments_lexer": "ipython3",
   "version": "3.6.4"
  }
 },
 "nbformat": 4,
 "nbformat_minor": 2
}

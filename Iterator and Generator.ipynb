{
 "cells": [
  {
   "cell_type": "markdown",
   "metadata": {},
   "source": [
    "# Iterator and Generator"
   ]
  },
  {
   "cell_type": "markdown",
   "metadata": {},
   "source": [
    "[Iterator and Generator](http://pythonstudy.xyz/python/article/23-Iterator%EC%99%80-Generator)<br>\n",
    "[Iterator and Generator-2](https://dojang.io/mod/page/view.php?id=1114)<br>\n",
    "아래 내용은 상기 링크를 정리한것."
   ]
  },
  {
   "cell_type": "markdown",
   "metadata": {},
   "source": [
    "## Iterator"
   ]
  },
  {
   "cell_type": "markdown",
   "metadata": {},
   "source": [
    "리스트, set, Dictionary와 같은 컬렉션이나 문자열과 같은 문자 Sequence등은 for문을 써서 하나씩 데이터를 처리 할 수 있는데,<br>\n",
    "이렇게 하나 하나 처리할 수 있는 컬렉션이나 Sequence들을 Iterable 객체(Iterable Object)라 부른다."
   ]
  },
  {
   "cell_type": "code",
   "execution_count": 1,
   "metadata": {},
   "outputs": [
    {
     "name": "stdout",
     "output_type": "stream",
     "text": [
      "1\n",
      "2\n",
      "3\n",
      "4\n",
      "5\n"
     ]
    }
   ],
   "source": [
    "# 리스트 Iterable\n",
    "for n in [1, 2, 3, 4, 5]:\n",
    "    print(n)"
   ]
  },
  {
   "cell_type": "code",
   "execution_count": 2,
   "metadata": {},
   "outputs": [
    {
     "name": "stdout",
     "output_type": "stream",
     "text": [
      "H\n",
      "e\n",
      "l\n",
      "l\n",
      "o\n",
      " \n",
      "w\n",
      "o\n",
      "r\n",
      "l\n",
      "d\n"
     ]
    }
   ],
   "source": [
    "# 문자열 Iterable\n",
    "for c in \"Hello world\":\n",
    "    print(c)"
   ]
  },
  {
   "cell_type": "markdown",
   "metadata": {},
   "source": [
    "내장 함수 iter()는 \"iter(Iterable객체)\"와 같이 사용하여 그 iterable객체의 iterator를 리턴한다.<br> \n",
    "<span style=\"color:red\">Iterable</span>객체에서 실제 <span style=\"color:green\">Iteration</span>을 실행하는 것은 <span style=\"color:blue\">iterator</span>로써,<br>"
   ]
  },
  {
   "cell_type": "markdown",
   "metadata": {},
   "source": [
    "<span style=\"color:blue\">iterator</span>는 next 메서드를 사용하여 다음 요소(element)를 가져온다.<br>\n",
    "만약 더이상 next 요소가 없으면 StopIteration Exception을 발생시킨다.<br>\n",
    "<br>\n",
    "Iterator의 next메서드로써 Python2에서는 \"iterator객체.next()\"를 사용하고, Python3에서는 \"iterator객체.`__next__()`\"메소드를 사용한다.<br>\n",
    "또한, 버전에 관계없이 사용할 수 있는 방식으로는 내장함수 \"next(iterator객체)\"를 사용할 수 있다.<br>\n",
    "아래는 한 리스트에 대해 list iterator를 구한 후, next() 함수를 계속 호출해 본 예이다.<br>"
   ]
  },
  {
   "cell_type": "code",
   "execution_count": 3,
   "metadata": {},
   "outputs": [],
   "source": [
    "mylist = [1, 2, 3]\n",
    "it = iter(mylist)"
   ]
  },
  {
   "cell_type": "code",
   "execution_count": 4,
   "metadata": {},
   "outputs": [
    {
     "data": {
      "text/plain": [
       "1"
      ]
     },
     "execution_count": 4,
     "metadata": {},
     "output_type": "execute_result"
    }
   ],
   "source": [
    "next(it)"
   ]
  },
  {
   "cell_type": "code",
   "execution_count": 5,
   "metadata": {},
   "outputs": [
    {
     "data": {
      "text/plain": [
       "2"
      ]
     },
     "execution_count": 5,
     "metadata": {},
     "output_type": "execute_result"
    }
   ],
   "source": [
    "next(it)"
   ]
  },
  {
   "cell_type": "code",
   "execution_count": 6,
   "metadata": {},
   "outputs": [
    {
     "data": {
      "text/plain": [
       "3"
      ]
     },
     "execution_count": 6,
     "metadata": {},
     "output_type": "execute_result"
    }
   ],
   "source": [
    "next(it)"
   ]
  },
  {
   "cell_type": "code",
   "execution_count": 8,
   "metadata": {},
   "outputs": [
    {
     "ename": "StopIteration",
     "evalue": "",
     "output_type": "error",
     "traceback": [
      "\u001b[1;31m\u001b[0m",
      "\u001b[1;31mStopIteration\u001b[0mTraceback (most recent call last)",
      "\u001b[1;32m<ipython-input-8-026f58ae179d>\u001b[0m in \u001b[0;36m<module>\u001b[1;34m()\u001b[0m\n\u001b[1;32m----> 1\u001b[1;33m \u001b[0mnext\u001b[0m\u001b[1;33m(\u001b[0m\u001b[0mit\u001b[0m\u001b[1;33m)\u001b[0m \u001b[1;31m#일부러 낸 오류\u001b[0m\u001b[1;33m\u001b[0m\u001b[0m\n\u001b[0m",
      "\u001b[1;31mStopIteration\u001b[0m: "
     ]
    }
   ],
   "source": [
    "next(it) #일부러 낸 오류"
   ]
  },
  {
   "cell_type": "markdown",
   "metadata": {},
   "source": [
    "어떤 클래스는 Iterable하게 하려면, 그 클래스의 iterator를 리턴하는 `__iter__()`메소드를 작성해야 한다.<br>\n",
    "이 `__iter__()`메서드가 리턴하는 iterator는 동일한 클래스 객체가 될 수 있고,<br>\n",
    "별도로 작성된 iterator 클래스의 객체가 될 수도 있다.<br>"
   ]
  },
  {
   "cell_type": "markdown",
   "metadata": {},
   "source": [
    "어떠한 경우든 Iterator가 되는 클래스는 `__next()__`메서드 (python2 인경우 next()메서드)를 구현해야 한다.<br>\n",
    "실제 for 루프에 Iterable Object를 사용하면,<br> \n",
    "해당 Iterable의  `__iter()__`메서드를 호출하여 iterator를 가져온 후 그 iterator의 next()메서드를 호출하여 루프를 돌게 된다.<br>\n",
    "<br>\n",
    "아래 예제는 간단한 Iterator를 예시한 것으로 `__iter__()`메서드에서 self를 리턴함으로써 Iterable과 동일한 클래스에 Iterator를 구현했음을 표시하였고, 그 클래스 안에 Iterator로써 필요한 `__next()__` 메서드 (Python3)를 구현하였다."
   ]
  },
  {
   "cell_type": "code",
   "execution_count": 10,
   "metadata": {},
   "outputs": [],
   "source": [
    "class MyCollection:\n",
    "    def __init__(self):\n",
    "        self.size = 10\n",
    "        self.data = list(range(self.size))\n",
    "        \n",
    "    def __iter__(self):\n",
    "        self.index = 0\n",
    "        return self\n",
    "    def __next__(self):\n",
    "        if self.index >= self.size:\n",
    "            raise StopIteration\n",
    "        n = self.data[self.index]\n",
    "        self.index += 1\n",
    "        return n"
   ]
  },
  {
   "cell_type": "code",
   "execution_count": 12,
   "metadata": {},
   "outputs": [
    {
     "ename": "TypeError",
     "evalue": "instance has no next() method",
     "output_type": "error",
     "traceback": [
      "\u001b[1;31m\u001b[0m",
      "\u001b[1;31mTypeError\u001b[0mTraceback (most recent call last)",
      "\u001b[1;32m<ipython-input-12-e1e8dc909045>\u001b[0m in \u001b[0;36m<module>\u001b[1;34m()\u001b[0m\n\u001b[0;32m      2\u001b[0m \u001b[1;31m# now is python 2\u001b[0m\u001b[1;33m\u001b[0m\u001b[1;33m\u001b[0m\u001b[0m\n\u001b[0;32m      3\u001b[0m \u001b[0mcoll\u001b[0m \u001b[1;33m=\u001b[0m \u001b[0mMyCollection\u001b[0m\u001b[1;33m(\u001b[0m\u001b[1;33m)\u001b[0m\u001b[1;33m\u001b[0m\u001b[0m\n\u001b[1;32m----> 4\u001b[1;33m \u001b[1;32mfor\u001b[0m \u001b[0mx\u001b[0m \u001b[1;32min\u001b[0m \u001b[0mcoll\u001b[0m\u001b[1;33m:\u001b[0m\u001b[1;33m\u001b[0m\u001b[0m\n\u001b[0m\u001b[0;32m      5\u001b[0m     \u001b[1;32mprint\u001b[0m\u001b[1;33m(\u001b[0m\u001b[0mx\u001b[0m\u001b[1;33m)\u001b[0m\u001b[1;33m\u001b[0m\u001b[0m\n",
      "\u001b[1;31mTypeError\u001b[0m: instance has no next() method"
     ]
    }
   ],
   "source": [
    "# should doing python3\n",
    "# now is python 2\n",
    "coll = MyCollection()\n",
    "for x in coll:\n",
    "    print(x)"
   ]
  }
 ],
 "metadata": {
  "kernelspec": {
   "display_name": "Python 2",
   "language": "python",
   "name": "python2"
  },
  "language_info": {
   "codemirror_mode": {
    "name": "ipython",
    "version": 2
   },
   "file_extension": ".py",
   "mimetype": "text/x-python",
   "name": "python",
   "nbconvert_exporter": "python",
   "pygments_lexer": "ipython2",
   "version": "2.7.14"
  }
 },
 "nbformat": 4,
 "nbformat_minor": 2
}

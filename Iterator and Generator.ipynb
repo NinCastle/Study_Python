{
 "cells": [
  {
   "cell_type": "markdown",
   "metadata": {},
   "source": [
    "# Iterator and Generator"
   ]
  },
  {
   "cell_type": "markdown",
   "metadata": {},
   "source": [
    "[Iterator and Generator](http://pythonstudy.xyz/python/article/23-Iterator%EC%99%80-Generator)<br>\n",
    "[Iterator and Generator-2](https://dojang.io/mod/page/view.php?id=1114)<br>\n",
    "아래 내용은 상기 링크를 정리한것."
   ]
  },
  {
   "cell_type": "markdown",
   "metadata": {},
   "source": [
    "## Iterator"
   ]
  },
  {
   "cell_type": "markdown",
   "metadata": {},
   "source": [
    "리스트, set, Dictionary와 같은 컬렉션이나 문자열과 같은 문자 Sequence등은 for문을 써서 하나씩 데이터를 처리 할 수 있는데,<br>\n",
    "이렇게 하나 하나 처리할 수 있는 컬렉션이나 Sequence들을 Iterable 객체(Iterable Object)라 부른다."
   ]
  },
  {
   "cell_type": "code",
   "execution_count": 1,
   "metadata": {},
   "outputs": [
    {
     "name": "stdout",
     "output_type": "stream",
     "text": [
      "1\n",
      "2\n",
      "3\n",
      "4\n",
      "5\n"
     ]
    }
   ],
   "source": [
    "# 리스트 Iterable\n",
    "for n in [1, 2, 3, 4, 5]:\n",
    "    print(n)"
   ]
  },
  {
   "cell_type": "code",
   "execution_count": 2,
   "metadata": {},
   "outputs": [
    {
     "name": "stdout",
     "output_type": "stream",
     "text": [
      "H\n",
      "e\n",
      "l\n",
      "l\n",
      "o\n",
      " \n",
      "w\n",
      "o\n",
      "r\n",
      "l\n",
      "d\n"
     ]
    }
   ],
   "source": [
    "# 문자열 Iterable\n",
    "for c in \"Hello world\":\n",
    "    print(c)"
   ]
  },
  {
   "cell_type": "markdown",
   "metadata": {},
   "source": [
    "내장 함수 iter()는 \"iter(Iterable객체)\"와 같이 사용하여 그 <span style=\"color:red\">Iterable</span>객체의 <span style=\"color:blue\">iterator</span>를 리턴한다.<br> \n",
    "<span style=\"color:red\">Iterable</span>객체에서 실제 <span style=\"color:green\">Iteration</span>을 실행하는 것은 <span style=\"color:blue\">iterator</span>로써,<br>"
   ]
  },
  {
   "cell_type": "markdown",
   "metadata": {},
   "source": [
    "<span style=\"color:blue\">iterator</span>는 next 메서드를 사용하여 다음 요소(element)를 가져온다.<br>\n",
    "만약 더이상 next 요소가 없으면 StopIteration Exception을 발생시킨다.<br>\n",
    "<br>\n",
    "Iterator의 next메서드로써 Python2에서는 \"iterator객체.next()\"를 사용하고, Python3에서는 \"iterator객체.`__next__()`\"메소드를 사용한다.<br>\n",
    "또한, 버전에 관계없이 사용할 수 있는 방식으로는 내장함수 \"next(iterator객체)\"를 사용할 수 있다.<br>\n",
    "아래는 한 리스트에 대해 list iterator를 구한 후, next() 함수를 계속 호출해 본 예이다.<br>"
   ]
  },
  {
   "cell_type": "code",
   "execution_count": 3,
   "metadata": {},
   "outputs": [],
   "source": [
    "mylist = [1, 2, 3]\n",
    "it = iter(mylist)"
   ]
  },
  {
   "cell_type": "code",
   "execution_count": 4,
   "metadata": {},
   "outputs": [
    {
     "data": {
      "text/plain": [
       "1"
      ]
     },
     "execution_count": 4,
     "metadata": {},
     "output_type": "execute_result"
    }
   ],
   "source": [
    "next(it)"
   ]
  },
  {
   "cell_type": "code",
   "execution_count": 5,
   "metadata": {},
   "outputs": [
    {
     "data": {
      "text/plain": [
       "2"
      ]
     },
     "execution_count": 5,
     "metadata": {},
     "output_type": "execute_result"
    }
   ],
   "source": [
    "next(it)"
   ]
  },
  {
   "cell_type": "code",
   "execution_count": 6,
   "metadata": {},
   "outputs": [
    {
     "data": {
      "text/plain": [
       "3"
      ]
     },
     "execution_count": 6,
     "metadata": {},
     "output_type": "execute_result"
    }
   ],
   "source": [
    "next(it)"
   ]
  },
  {
   "cell_type": "code",
   "execution_count": 8,
   "metadata": {},
   "outputs": [
    {
     "ename": "StopIteration",
     "evalue": "",
     "output_type": "error",
     "traceback": [
      "\u001b[1;31m\u001b[0m",
      "\u001b[1;31mStopIteration\u001b[0mTraceback (most recent call last)",
      "\u001b[1;32m<ipython-input-8-026f58ae179d>\u001b[0m in \u001b[0;36m<module>\u001b[1;34m()\u001b[0m\n\u001b[1;32m----> 1\u001b[1;33m \u001b[0mnext\u001b[0m\u001b[1;33m(\u001b[0m\u001b[0mit\u001b[0m\u001b[1;33m)\u001b[0m \u001b[1;31m#일부러 낸 오류\u001b[0m\u001b[1;33m\u001b[0m\u001b[0m\n\u001b[0m",
      "\u001b[1;31mStopIteration\u001b[0m: "
     ]
    }
   ],
   "source": [
    "next(it) #일부러 낸 오류"
   ]
  },
  {
   "cell_type": "markdown",
   "metadata": {},
   "source": [
    "어떤 클래스는 Iterable하게 하려면, 그 클래스의 iterator를 리턴하는 `__iter__()`메소드를 작성해야 한다.<br>\n",
    "이 `__iter__()`메서드가 리턴하는 iterator는 동일한 클래스 객체가 될 수 있고,<br>\n",
    "별도로 작성된 iterator 클래스의 객체가 될 수도 있다.<br>"
   ]
  },
  {
   "cell_type": "markdown",
   "metadata": {},
   "source": [
    "어떠한 경우든 Iterator가 되는 클래스는 `__next()__`메서드 (python2 인경우 next()메서드)를 구현해야 한다.<br>\n",
    "실제 for 루프에 Iterable Object를 사용하면,<br> \n",
    "해당 Iterable의  `__iter()__`메서드를 호출하여 iterator를 가져온 후 그 iterator의 next()메서드를 호출하여 루프를 돌게 된다.<br>\n",
    "<br>\n",
    "아래 예제는 간단한 Iterator를 예시한 것으로 `__iter__()`메서드에서 self를 리턴함으로써 Iterable과 동일한 클래스에 Iterator를 구현했음을 표시하였고, 그 클래스 안에 Iterator로써 필요한 `__next()__` 메서드 (Python3)를 구현하였다."
   ]
  },
  {
   "cell_type": "code",
   "execution_count": 19,
   "metadata": {},
   "outputs": [],
   "source": [
    "class MyCollection:\n",
    "    def __init__(self):\n",
    "        self.size = 10\n",
    "        self.data = list(range(self.size))\n",
    "        \n",
    "    def __iter__(self):\n",
    "        self.index = 0\n",
    "        return self\n",
    "    # python 3\n",
    "#     def __next__(self): \n",
    "    # python 2\n",
    "    def next(self): \n",
    "        if self.index >= self.size:\n",
    "            raise StopIteration\n",
    "        n = self.data[self.index]\n",
    "        self.index += 1\n",
    "        return n"
   ]
  },
  {
   "cell_type": "code",
   "execution_count": 20,
   "metadata": {},
   "outputs": [
    {
     "name": "stdout",
     "output_type": "stream",
     "text": [
      "0\n",
      "1\n",
      "2\n",
      "3\n",
      "4\n",
      "5\n",
      "6\n",
      "7\n",
      "8\n",
      "9\n"
     ]
    }
   ],
   "source": [
    "# should doing python3\n",
    "# now it is python 2\n",
    "coll = MyCollection()\n",
    "for x in coll:\n",
    "    print(x)"
   ]
  },
  {
   "cell_type": "markdown",
   "metadata": {},
   "source": [
    "# Generator"
   ]
  },
  {
   "cell_type": "markdown",
   "metadata": {},
   "source": [
    "Generator는 Iterator의 특수한 형태이다.<br>\n",
    "Generator 함수(Generator function)는 함수 안에 yield를 사용하여 데이터를 하나씩 리턴하는 함수이다.<br>\n",
    "Generator 함수가 처음 호출 되면, 그 함수 실행중 처음으로 만나는 yield에서 값을 리턴한다.<br>\n",
    "Generator 함수가 다시 호출 되면, 직전에 실행되었던 yield 문 다음부터 다음 yield문을 만날 때 까지 문장들을 실행하게 된다.<br>\n",
    "이러한 Generator함수를 변수에 할당하면 그 변수는 generator 클래스 객체가 된다.<br>\n",
    "<br>\n",
    "아래 예제는 간단한 Generator 함수와 그 호출 사례를 보인것이다.<br>\n",
    "여기서 gen()함수는 Generator함수로써 4개의 yield문을 가지고 있다.<br>\n",
    "따라서 한번 호출시마다 각 yield문에서 실행을 중지하고 값을 리턴하게 된다.<br>"
   ]
  },
  {
   "cell_type": "code",
   "execution_count": 32,
   "metadata": {},
   "outputs": [],
   "source": [
    "# Generator 함수\n",
    "def gen():\n",
    "    yield 1\n",
    "    yield 2\n",
    "    yield 3\n",
    "    yield \"a\""
   ]
  },
  {
   "cell_type": "code",
   "execution_count": 33,
   "metadata": {},
   "outputs": [
    {
     "name": "stdout",
     "output_type": "stream",
     "text": [
      "<type 'generator'>\n"
     ]
    }
   ],
   "source": [
    "# Generator 객체\n",
    "g = gen()\n",
    "print(type(g)) # <class 'generator'>"
   ]
  },
  {
   "cell_type": "code",
   "execution_count": 34,
   "metadata": {},
   "outputs": [
    {
     "name": "stdout",
     "output_type": "stream",
     "text": [
      "1\n",
      "2\n",
      "3\n",
      "a\n"
     ]
    }
   ],
   "source": [
    "# next() 함수 사용\n",
    "n = next(g); print(n) # 1\n",
    "n = next(g); print(n) # 2\n",
    "n = next(g); print(n) # 3\n",
    "n = next(g); print(n)"
   ]
  },
  {
   "cell_type": "code",
   "execution_count": 35,
   "metadata": {},
   "outputs": [
    {
     "name": "stdout",
     "output_type": "stream",
     "text": [
      "1\n",
      "2\n",
      "3\n",
      "a\n"
     ]
    }
   ],
   "source": [
    "# for 루프 사용 가능\n",
    "for x in gen():\n",
    "    print(x)"
   ]
  },
  {
   "cell_type": "markdown",
   "metadata": {},
   "source": [
    "위의 예에서 g = gen() 문은 Generator 함수를 변수 g 에 할당한 것인데,<br>\n",
    "이때 g 는 generator라는 클래스의 객체로서 next() 내장함수를 사용하여 Generator의 다음 값을 계속 가져올 수 있다. <br>Generator는 물론 예제의 마지막 부분과 같이 for 루프에서도 사용가능."
   ]
  },
  {
   "cell_type": "markdown",
   "metadata": {},
   "source": [
    "# Generator Expression"
   ]
  },
  {
   "cell_type": "markdown",
   "metadata": {},
   "source": [
    "Generator Expression은 Geneerator Comprehension으로도 불리우는데, List Comprehension과 외관상 유사하다.<br>\n",
    "List Comprehension은 앞뒤를 [...] 처럼 대괄호로 표현한다면, Generator Expression (...)처럼 둥근 괄호를 사용한다.<br>\n",
    "하지만 Generator Expression은 List Comprehension과 달리 실제 리스트 컬렉션 데이터 천체를 리턴하지 않고, <br>\n",
    "그 표현식 만을 갖는 Generator 객체만 리턴한다.<br>\n",
    "즉 실제 실행은 하지 않고, 표현식만 가지며 위의 yield 방식으로 Lazy Operation을 수행하는 것이다.<br>\n",
    "<br>\n",
    "아래 예제는 1부터 1000개 까지의 숫자에 대한 제곱값을 Generator Expression으로 표현한 것으로 여기서<br>\n",
    "Generator Expression을 할당받은 변수 g는 Generator 타입 객체이다.<br> \n",
    "첫 번째 for 루프를 사용하여 10개의 next() 문을 실행하여 처음 10개에 대한 제곱값만을 실행하였다.<br>\n",
    "두번재 for 루프에서는 11번째부터 마지막까지 모두 실행하게 된다.<br>\n",
    "Generator 객체 g는 상태를 유지하고 있으므로 두번째 for 루프에서 다음 숫자 11부터 계산을 수행한것이다.<br>"
   ]
  },
  {
   "cell_type": "code",
   "execution_count": 47,
   "metadata": {},
   "outputs": [],
   "source": [
    "# Generator Expression\n",
    "g = (n*n for n in range(20))"
   ]
  },
  {
   "cell_type": "code",
   "execution_count": 48,
   "metadata": {},
   "outputs": [
    {
     "name": "stdout",
     "output_type": "stream",
     "text": [
      "<type 'generator'>\n"
     ]
    }
   ],
   "source": [
    "#g는 generator 객체\n",
    "print(type(g))# <class 'generator'>"
   ]
  },
  {
   "cell_type": "code",
   "execution_count": 49,
   "metadata": {},
   "outputs": [],
   "source": [
    "#리스트로 일괄 변환시\n",
    "# mylist = list(g)"
   ]
  },
  {
   "cell_type": "code",
   "execution_count": 50,
   "metadata": {},
   "outputs": [
    {
     "name": "stdout",
     "output_type": "stream",
     "text": [
      "0\n",
      "1\n",
      "4\n",
      "9\n",
      "16\n",
      "25\n",
      "36\n",
      "49\n",
      "64\n",
      "81\n"
     ]
    }
   ],
   "source": [
    "# 10개 출력\n",
    "for i in range(10):\n",
    "    value = next(g)\n",
    "    print(value)"
   ]
  },
  {
   "cell_type": "code",
   "execution_count": 51,
   "metadata": {},
   "outputs": [
    {
     "name": "stdout",
     "output_type": "stream",
     "text": [
      "100\n",
      "121\n",
      "144\n",
      "169\n",
      "196\n",
      "225\n",
      "256\n",
      "289\n",
      "324\n",
      "361\n"
     ]
    }
   ],
   "source": [
    "# 나머지 모두 출력\n",
    "for x in g:\n",
    "    print(x)"
   ]
  }
 ],
 "metadata": {
  "kernelspec": {
   "display_name": "Python 2",
   "language": "python",
   "name": "python2"
  },
  "language_info": {
   "codemirror_mode": {
    "name": "ipython",
    "version": 2
   },
   "file_extension": ".py",
   "mimetype": "text/x-python",
   "name": "python",
   "nbconvert_exporter": "python",
   "pygments_lexer": "ipython2",
   "version": "2.7.14"
  }
 },
 "nbformat": 4,
 "nbformat_minor": 2
}

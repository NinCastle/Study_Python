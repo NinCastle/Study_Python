{
 "cells": [
  {
   "cell_type": "markdown",
   "metadata": {},
   "source": [
    "[ㅍㅍㅋㄷ](http://bluese05.tistory.com/55)  \n",
    "하기 내용은 상기 링크를 정리한것."
   ]
  },
  {
   "cell_type": "markdown",
   "metadata": {},
   "source": [
    "# Iterable(이터러블)\n",
    "\n",
    "> **Iterable** :  \n",
    " An objject capable of returning its members one at a time. Examples of iterables include all sequence types(such as **list**, **str**, and **tuple**) and some non-sequence types like **dict** and **file** and objects of any classes you define with an `__iter__()` or `__getitem__()` method. Iterables can be used in a for loop and in many other places where a sequence is needed (zip(), map(), ...). When an iterable is good for one pass over the set of values. When using iterables, it is usually not necessary to call iter() or deal with iterator objects yourself. The for statement does that automatically for you, crating a temporary unnamed variable to hold the iterator for the duration of the loop. See also iterator, sequence, and generator."
   ]
  },
  {
   "cell_type": "markdown",
   "metadata": {},
   "source": [
    "iterable의 의미는 member(속성)을 하나씩 차례대로 반환 하는 object를 말한다.  \n",
    "iterable의 예로는 sequece type인 **list, str, tuple**그리고 **for**가 대표적."
   ]
  },
  {
   "cell_type": "code",
   "execution_count": 1,
   "metadata": {},
   "outputs": [
    {
     "name": "stdout",
     "output_type": "stream",
     "text": [
      "0\n",
      "1\n",
      "2\n",
      "3\n",
      "4\n"
     ]
    }
   ],
   "source": [
    "for i in range(5):\n",
    "    print(i)"
   ]
  }
 ],
 "metadata": {
  "kernelspec": {
   "display_name": "Python 3",
   "language": "python",
   "name": "python3"
  },
  "language_info": {
   "codemirror_mode": {
    "name": "ipython",
    "version": 3
   },
   "file_extension": ".py",
   "mimetype": "text/x-python",
   "name": "python",
   "nbconvert_exporter": "python",
   "pygments_lexer": "ipython3",
   "version": "3.5.5"
  }
 },
 "nbformat": 4,
 "nbformat_minor": 2
}

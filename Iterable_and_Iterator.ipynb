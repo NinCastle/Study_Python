{
 "cells": [
  {
   "cell_type": "markdown",
   "metadata": {},
   "source": [
    "[ㅍㅍㅋㄷ](http://bluese05.tistory.com/55)  \n",
    "하기 내용은 상기 링크를 정리한것."
   ]
  },
  {
   "cell_type": "markdown",
   "metadata": {},
   "source": [
    "# Iterable(이터러블)\n",
    "\n",
    "> **Iterable** :  \n",
    " An objject capable of returning its members one at a time. Examples of iterables include all sequence types(such as **list**, **str**, and **tuple**) and some non-sequence types like **dict** and **file** and objects of any classes you define with an `__iter__()` or `__getitem__()` method. Iterables can be used in a for loop and in many other places where a sequence is needed (zip(), map(), ...). When an iterable is good for one pass over the set of values. When using iterables, it is usually not necessary to call iter() or deal with iterator objects yourself. The for statement does that automatically for you, crating a temporary unnamed variable to hold the iterator for the duration of the loop. See also iterator, sequence, and generator."
   ]
  },
  {
   "cell_type": "markdown",
   "metadata": {},
   "source": [
    "iterable의 의미는 member(속성)을 하나씩 차례대로 반환 하는 object를 말한다.  \n",
    "iterable의 예로는 sequece type인 **list, str, tuple**그리고 **range**가 대표적."
   ]
  },
  {
   "cell_type": "code",
   "execution_count": 1,
   "metadata": {},
   "outputs": [
    {
     "name": "stdout",
     "output_type": "stream",
     "text": [
      "0\n",
      "1\n",
      "2\n",
      "3\n",
      "4\n"
     ]
    }
   ],
   "source": [
    "for i in range(5):\n",
    "    print(i)"
   ]
  },
  {
   "cell_type": "markdown",
   "metadata": {},
   "source": [
    "상위에서 표현된 for문과 같이 range()로 생성된 list가 iterable해서 순차적으로 member를 사용하는것이 가능하다.  \n",
    "<br>\n",
    "non-sequence type 인 dict나 file도 iterable하다고 할 수 있다.  \n",
    "아래는 dict 또한 for 문을 이용해 순차적으로 접근한 경우이다."
   ]
  },
  {
   "cell_type": "code",
   "execution_count": 3,
   "metadata": {},
   "outputs": [
    {
     "name": "stdout",
     "output_type": "stream",
     "text": [
      "a\n",
      "c\n",
      "b\n"
     ]
    }
   ],
   "source": [
    "x = {'a':1, 'b':2, 'c':3}\n",
    "\n",
    "for y in x:\n",
    "    print(y)"
   ]
  },
  {
   "cell_type": "markdown",
   "metadata": {},
   "source": [
    "또한 `__iter__()`나 `__getitem__()`메소드로 정의된 class는 모두 iterable 하다고 할 수 있다.  \n",
    "<br>\n",
    "iterable은 `for` loop 말고도, `zip()`, `map()`과 같이 sequence한 특징을 필요로 하는 작업에 유용하게 사용된다."
   ]
  },
  {
   "cell_type": "markdown",
   "metadata": {},
   "source": [
    "> **zip** :  \n",
    "This function returns a list of tuples, where the i-th tuple contains the i-th element from each of the argument sequences or iterables."
   ]
  },
  {
   "cell_type": "code",
   "execution_count": 15,
   "metadata": {},
   "outputs": [],
   "source": [
    "zip_test = zip([1, 2, 3, 4], [5, 6, 4, 3])"
   ]
  },
  {
   "cell_type": "code",
   "execution_count": 16,
   "metadata": {},
   "outputs": [
    {
     "name": "stdout",
     "output_type": "stream",
     "text": [
      "(1, 5)\n",
      "(2, 6)\n",
      "(3, 4)\n",
      "(4, 3)\n"
     ]
    }
   ],
   "source": [
    "for values in zip_test:\n",
    "    print(values)"
   ]
  },
  {
   "cell_type": "markdown",
   "metadata": {},
   "source": [
    "> **map** :  \n",
    "Apply function to every item of iterable and return a list of the result"
   ]
  },
  {
   "cell_type": "code",
   "execution_count": 22,
   "metadata": {},
   "outputs": [
    {
     "data": {
      "text/plain": [
       "[2, 4, 6, 8]"
      ]
     },
     "execution_count": 22,
     "metadata": {},
     "output_type": "execute_result"
    }
   ],
   "source": [
    "def two_times(numberList):\n",
    "    result = []\n",
    "    for number in numberList:\n",
    "        result.append(number*2)\n",
    "    return result\n",
    "\n",
    "result = two_times([1, 2, 3, 4])\n",
    "result"
   ]
  },
  {
   "cell_type": "code",
   "execution_count": 23,
   "metadata": {},
   "outputs": [
    {
     "data": {
      "text/plain": [
       "[2, 4, 6, 8]"
      ]
     },
     "execution_count": 23,
     "metadata": {},
     "output_type": "execute_result"
    }
   ],
   "source": [
    "# same\n",
    "def two_times2(x): return x*2\n",
    "\n",
    "list(map(two_times2, [1, 2, 3, 4]))"
   ]
  },
  {
   "cell_type": "code",
   "execution_count": 24,
   "metadata": {},
   "outputs": [
    {
     "data": {
      "text/plain": [
       "<map at 0x1f6fcaca630>"
      ]
     },
     "execution_count": 24,
     "metadata": {},
     "output_type": "execute_result"
    }
   ],
   "source": [
    "map(two_times2, [1, 2, 3, 4])"
   ]
  },
  {
   "cell_type": "markdown",
   "metadata": {},
   "source": [
    "`zip()`이나 `map()` 함수의 경우 iterable을 argument로 받는 것으로 정의."
   ]
  },
  {
   "cell_type": "markdown",
   "metadata": {},
   "source": [
    "# Iterator(이터레이터)"
   ]
  },
  {
   "cell_type": "markdown",
   "metadata": {},
   "source": [
    "> *Iterator* :  \n",
    "An object representing a stream of data. Repeated calls to the iterator's `next()` method return successive items in the stream. When no more data are available, a <span style = color:red>StopIteration exception</span> is raised instead. At this point, the iterator object is exhausted and any further calls to its `next()` method just raise <span style = color:red>StopIteration</span> again. Iterators are required to have an `__iter__()` method that returns the iterator object itself so every iterator is also iterable and may be used in most places where other iterables are accepted. One notable exception is code which attempts multiple iteration passes. A container object (such as *list*) produces a fresh new iterator each time you pass it to the `__iter()__` function or use it in a `for` loop. Attempting this with an iterator will just return the same exgausted iterator object used in the previous iteration pass, making it appear like an empty container."
   ]
  },
  {
   "cell_type": "markdown",
   "metadata": {},
   "source": [
    "Iterator 는 `next()` 메소드로 데이터를 순차적으로 호출 가능한 object.  \n",
    "만약 `next()`로 다음 데이터를 불러 올 수 없을 경우(마지막 데이터일 경우) <span style = color:red>StopIteration exception</span>을 발생시킴."
   ]
  }
 ],
 "metadata": {
  "kernelspec": {
   "display_name": "Python 3",
   "language": "python",
   "name": "python3"
  },
  "language_info": {
   "codemirror_mode": {
    "name": "ipython",
    "version": 3
   },
   "file_extension": ".py",
   "mimetype": "text/x-python",
   "name": "python",
   "nbconvert_exporter": "python",
   "pygments_lexer": "ipython3",
   "version": "3.5.5"
  }
 },
 "nbformat": 4,
 "nbformat_minor": 2
}
